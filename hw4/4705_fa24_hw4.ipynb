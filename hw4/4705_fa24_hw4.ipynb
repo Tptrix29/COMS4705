{
  "cells": [
    {
      "cell_type": "markdown",
      "id": "6703077a",
      "metadata": {
        "id": "6703077a"
      },
      "source": [
        "# COMS W4705 Spring 24\n",
        "## Homework 4 - Semantic Role Labelling with BERT\n",
        "\n",
        "The goal of this assignment is to train and evaluate a PropBank-style semantic role labeling (SRL) system. Following (Collobert et al. 2011) and others, we will treat this problem as a sequence-labeling task. For each input token, the system will predict a B-I-O tag, as illustrated in the following example:\n",
        "\n",
        "|The|judge|scheduled|to|preside|over|his|trial|was|removed|from|the|case|today|.|             \n",
        "|---|-----|---------|--|-------|----|---|-----|---|-------|----|---|----|-----|-|             \n",
        "|B-ARG1|I-ARG1|B-V|B-ARG2|I-ARG2|I-ARG2|I-ARG2|I-ARG2|O|O|O|O|O|O|O|\n",
        "|||schedule.01|||||||||||||\n",
        "\n",
        "Note that the same sentence may have multiple annotations for different predicates\n",
        "\n",
        "|The|judge|scheduled|to|preside|over|his|trial|was|removed|from|the|case|today|.|             \n",
        "|---|-----|---------|--|-------|----|---|-----|---|-------|----|---|----|-----|-|             \n",
        "|B-ARG1|I-ARG1|I-ARG1|I-ARG1|I-ARG1|I-ARG1|I-ARG1|I-ARG1|O|B-V|B-ARG2|I-ARG2|I-ARG2|B-ARGM-TMP|O|\n",
        "||||||||||remove.01||||||\n",
        "\n",
        "and not all predicates need to be verbs\n",
        "\n",
        "|The|judge|scheduled|to|preside|over|his|trial|was|removed|from|the|case|today|.|             \n",
        "|---|-----|---------|--|-------|----|---|-----|---|-------|----|---|----|-----|-|    \n",
        "|O|O|O|O|O|O|B-ARG1|B-V|O|O|O|O|O|O|O|\n",
        "||||||||try.02||||||||\n",
        "\n",
        "The SRL system will be implemented in [PyTorch](https://pytorch.org/). We will use BERT (in the implementation provided by the [Huggingface transformers](https://huggingface.co/docs/transformers/index) library) to compute contextualized token representations and a custom classification head to predict semantic roles. We will fine-tune the pretrained BERT model on the SRL task.\n"
      ]
    },
    {
      "cell_type": "markdown",
      "id": "ff12fe94",
      "metadata": {
        "id": "ff12fe94"
      },
      "source": [
        "### Overview of the Approach\n",
        "\n",
        "The model we will train is pretty straightforward. Essentially, we will just encode the sentence with BERT, then take the contextualized embedding for each token and feed it into a classifier to predict the corresponding tag.\n",
        "\n",
        "Because we are only working on argument identification and labeling (not predicate identification), it is essentially that we tell the model where the predicate is. This can be accomplished in various ways. The approach we will choose here repurposes Bert's *segment embeddings*.\n",
        "\n",
        "Recall that BERT is trained on two input sentences, seperated by [SEP], and on a next-sentence-prediction objective (in addition to the masked LM objective). To help BERT comprehend which sentence a given token belongs to, the original BERT uses a segment embedding, using A for the first sentene, and B for the second sentence 2.\n",
        "Because we are labeling only a single sentence at a time, we can use the segment embeddings to indicate the predicate position instead: The predicate is labeled as segment B (1) and all other tokens will be labeled as segment A (0).\n",
        "\n",
        "<img src=\"https://github.com/daniel-bauer/4705-f23-hw5/blob/main/bert_srl_model.png?raw=true\" width=400px>"
      ]
    },
    {
      "cell_type": "markdown",
      "id": "68325e53",
      "metadata": {
        "id": "68325e53"
      },
      "source": [
        "## Setup: GCP, Jupyter, PyTorch, GPU\n",
        "\n",
        "To make sure that PyTorch is available and can use the GPU,run the following cell which should return True. If it doesn't, make sure the GPU drivers and CUDA are installed correctly.\n",
        "\n",
        "GPU support is required for this assignment -- you will not be able to fine-tune BERT on a CPU."
      ]
    },
    {
      "cell_type": "code",
      "execution_count": null,
      "id": "aad94eef",
      "metadata": {
        "colab": {
          "base_uri": "https://localhost:8080/"
        },
        "id": "aad94eef",
        "outputId": "56fd44f6-d5ec-4716-c979-74b3e1cf5959"
      },
      "outputs": [
        {
          "output_type": "execute_result",
          "data": {
            "text/plain": [
              "True"
            ]
          },
          "metadata": {},
          "execution_count": 1
        }
      ],
      "source": [
        "import torch\n",
        "torch.cuda.is_available()"
      ]
    },
    {
      "cell_type": "markdown",
      "id": "3fe1c8ac",
      "metadata": {
        "id": "3fe1c8ac"
      },
      "source": [
        "## Dataset: Ontonotes 5.0 English SRL annotations\n",
        "\n",
        "We will work with the English part of the [Ontonotes 5.0](https://catalog.ldc.upenn.edu/LDC2013T19) data. This is an extension of PropBank, using the same type of annotation. Ontonotes contains annotations other than predicate/argument structures, but we will use the PropBank style SRL annotations only. *Important*: This data set is provided to you for use in COMS 4705 only! Columbia is a subscriber to LDC and is allowed to use the data for educational purposes. However, you may not use the dataset in projects unrelated to Columbia teaching or research.\n",
        "\n",
        "If you haven't done so already, you can download the data here:\n"
      ]
    },
    {
      "cell_type": "code",
      "execution_count": null,
      "id": "0c2f2645",
      "metadata": {
        "colab": {
          "base_uri": "https://localhost:8080/"
        },
        "id": "0c2f2645",
        "outputId": "c4fdcc8f-6962-4797-ff11-2c129838a080"
      },
      "outputs": [
        {
          "output_type": "stream",
          "name": "stdout",
          "text": [
            "--2024-12-01 21:06:37--  https://storage.googleapis.com/4705-bert-srl-data/ontonotes_srl.zip\n",
            "Resolving storage.googleapis.com (storage.googleapis.com)... 142.250.101.207, 142.251.2.207, 74.125.137.207, ...\n",
            "Connecting to storage.googleapis.com (storage.googleapis.com)|142.250.101.207|:443... connected.\n",
            "HTTP request sent, awaiting response... 200 OK\n",
            "Length: 12369688 (12M) [application/zip]\n",
            "Saving to: ‘ontonotes_srl.zip’\n",
            "\n",
            "ontonotes_srl.zip   100%[===================>]  11.80M  24.7MB/s    in 0.5s    \n",
            "\n",
            "2024-12-01 21:06:38 (24.7 MB/s) - ‘ontonotes_srl.zip’ saved [12369688/12369688]\n",
            "\n"
          ]
        }
      ],
      "source": [
        "! wget https://storage.googleapis.com/4705-bert-srl-data/ontonotes_srl.zip"
      ]
    },
    {
      "cell_type": "code",
      "execution_count": null,
      "id": "14aad58e",
      "metadata": {
        "colab": {
          "base_uri": "https://localhost:8080/"
        },
        "id": "14aad58e",
        "outputId": "9087c0cc-6e0d-4087-9953-0baf8135d3ed"
      },
      "outputs": [
        {
          "output_type": "stream",
          "name": "stdout",
          "text": [
            "Archive:  ontonotes_srl.zip\n",
            "  inflating: propbank_dev.tsv        \n",
            "  inflating: propbank_test.tsv       \n",
            "  inflating: propbank_train.tsv      \n",
            "  inflating: role_list.txt           \n"
          ]
        }
      ],
      "source": [
        "! unzip ontonotes_srl.zip"
      ]
    },
    {
      "cell_type": "markdown",
      "id": "8cae08a9",
      "metadata": {
        "id": "8cae08a9"
      },
      "source": [
        "The data has been pre-processed in the following format. There are three files:\n",
        "\n",
        "`propbank_dev.tsv`\t`propbank_test.tsv`\t`propbank_train.tsv`\n",
        "\n",
        "Each of these files is in a tab-separated value format. A single predicate/argument structure annotation consists of four rows. For example\n",
        "\n",
        "```\n",
        "ontonotes/bc/cnn/00/cnn_0000.152.1\n",
        "The     judge   scheduled       to      preside over    his     trial   was     removed from    the     case    today   /.\n",
        "                schedule.01\n",
        "B-ARG1  I-ARG1  B-V     B-ARG2  I-ARG2  I-ARG2  I-ARG2  I-ARG2  O       O       O       O       O       O       O\n",
        "```\n",
        "\n",
        "* The first row is a unique identifier (1st annotation of the 152nd sentence in the file ontonotes/bc/cnn/00/cnn_0000).\n",
        "* The second row contains the tokens of the sentence (tab-separated).\n",
        "* The third row contains the probank frame name for the predicate (empty field for all other tokens).\n",
        "* The fourth row contains the B-I-O tag for each token.\n",
        "\n",
        "The file `rolelist.txt` contains a list of propbank BIO labels in the dataset (i.e. possible output tokens). This list has been filtered to contain only roles that appeared more than 1000 times in the training data.\n",
        "We will load this list and create mappings from numeric ids to BIO tags and back."
      ]
    },
    {
      "cell_type": "code",
      "execution_count": null,
      "id": "dc4c027a",
      "metadata": {
        "id": "dc4c027a"
      },
      "outputs": [],
      "source": [
        "role_to_id = {}\n",
        "with open(\"role_list.txt\",'r') as f:\n",
        "    role_list = [x.strip() for x in f.readlines()]\n",
        "    role_to_id = dict((role, index) for (index, role) in enumerate(role_list))\n",
        "    role_to_id['[PAD]'] = -100\n",
        "\n",
        "    id_to_role = dict((index, role) for (role, index) in role_to_id.items())\n"
      ]
    },
    {
      "cell_type": "markdown",
      "id": "f07cdf31",
      "metadata": {
        "id": "f07cdf31"
      },
      "source": [
        "Note that we are also mapping the '[PAD]' token to the value -100. This allows the loss function to ignore these tokens during training."
      ]
    },
    {
      "cell_type": "markdown",
      "id": "88096be5",
      "metadata": {
        "id": "88096be5"
      },
      "source": [
        "\n",
        "\n"
      ]
    },
    {
      "cell_type": "markdown",
      "id": "aae727bf",
      "metadata": {
        "id": "aae727bf"
      },
      "source": [
        "## Part 1 - Data Preparation\n",
        "\n",
        "Before you can build the SRL model, you first need to preprocess the data.\n",
        "\n",
        "\n",
        "### 1.1 - Tokenization\n",
        "\n",
        "One challenge is that the pre-trained BERT model uses subword (\"WordPiece\") tokenization, but the Ontonotes data does not. Fortunately Huggingface transformers provides a tokenizer."
      ]
    },
    {
      "cell_type": "code",
      "execution_count": null,
      "id": "8a2d7d03",
      "metadata": {
        "colab": {
          "base_uri": "https://localhost:8080/",
          "height": 486,
          "referenced_widgets": [
            "bea62646dc9541229b04a6eb17522205",
            "6f526ace6da34269aa6e29f23d19391b",
            "5743e0d5565c4f40a36d28fd63c9e86c",
            "7a9f383e38dd4b099a026930621828f1",
            "823c2384086c4d2a810b85c16fad88f1",
            "ce4323e80db644b58120c4dd1d410dd4",
            "0c54b410e7b54c6194f769d117ba8ac1",
            "06639974a0014c85bd4b5243b0c74289",
            "6d6c40ed6ebc4ecea3856521c43879b7",
            "066a4f12f47a47d5bf17c317bc6b0cf7",
            "fc7b7b5efca84348b568662a60480618",
            "5a08b68227d34fe28b8c50e691a0518f",
            "4bf7b2dd805444b0a00f4b6d7bb87bfc",
            "1b340cf2d05447b08176fce0e71f04f1",
            "df39a255a170470d91203ff94a5c09fc",
            "8f4f982b0f194c0f9e30024eac5b02cb",
            "cf9e7136e5524f98a0e7e01cbfdfdb70",
            "366594cfcae041f29ea0e511f756bbd7",
            "9376a3db120e4e538f0e94c733fe8e55",
            "2b858874eb0e45c9be060d41362eb2ce",
            "d8e96467f1b447379f4388fb27f6fda3",
            "7bc668b69a16430886302bde991e3d55",
            "41d8f01804f4429688e0969d5c0aa5af",
            "20ab2abeb7264168972786ac37f30c23",
            "85ec1040c9ca467c9b2f4ff9a2a173b0",
            "77216ba8d7d64d4d8141e6b31364df65",
            "ac0da954b3f64b96b0f4bdb9f011d090",
            "d67f09f54faf4621823916a4bbafa905",
            "d6a98e81f01d44e0a04aecd7ee931e5f",
            "7dd137700b2247f2ada7a6ab2c258df8",
            "5e8fa83e04b44d1b9aa6a88175cfd421",
            "391f38caf9124e7592620d66ebd740d0",
            "5ada26772c3e48909970d27ceffcc226",
            "45c6a3644c154ed3a5cfe92d37e5924e",
            "5477684c5d224ae88917906d67177729",
            "e2e21324eaa64bdd8492793fc7c6cadb",
            "84ccda78554e48a7be1c682130cb97b7",
            "22658a77506445aab4c9da2f88d940e9",
            "64a163fcf50e484ab184fdf1b2c1e7ab",
            "6f48e84f81574f81ae6d021d03a6d0af",
            "64db067930e54a47ae83737f06d7e171",
            "47f5ee6ef3b9421ca9ae616db909daa4",
            "ab2d7fbc435b49c9a2c150d3342246e1",
            "932398f378604aaca64766c89ec7274d"
          ]
        },
        "id": "8a2d7d03",
        "outputId": "0fb2af5d-a4db-4be4-869a-1149f613c623"
      },
      "outputs": [
        {
          "output_type": "stream",
          "name": "stderr",
          "text": [
            "/usr/local/lib/python3.10/dist-packages/huggingface_hub/utils/_auth.py:94: UserWarning: \n",
            "The secret `HF_TOKEN` does not exist in your Colab secrets.\n",
            "To authenticate with the Hugging Face Hub, create a token in your settings tab (https://huggingface.co/settings/tokens), set it as secret in your Google Colab and restart your session.\n",
            "You will be able to reuse this secret in all of your notebooks.\n",
            "Please note that authentication is recommended but still optional to access public models or datasets.\n",
            "  warnings.warn(\n"
          ]
        },
        {
          "output_type": "display_data",
          "data": {
            "text/plain": [
              "tokenizer_config.json:   0%|          | 0.00/48.0 [00:00<?, ?B/s]"
            ],
            "application/vnd.jupyter.widget-view+json": {
              "version_major": 2,
              "version_minor": 0,
              "model_id": "bea62646dc9541229b04a6eb17522205"
            }
          },
          "metadata": {}
        },
        {
          "output_type": "display_data",
          "data": {
            "text/plain": [
              "vocab.txt:   0%|          | 0.00/232k [00:00<?, ?B/s]"
            ],
            "application/vnd.jupyter.widget-view+json": {
              "version_major": 2,
              "version_minor": 0,
              "model_id": "5a08b68227d34fe28b8c50e691a0518f"
            }
          },
          "metadata": {}
        },
        {
          "output_type": "display_data",
          "data": {
            "text/plain": [
              "tokenizer.json:   0%|          | 0.00/466k [00:00<?, ?B/s]"
            ],
            "application/vnd.jupyter.widget-view+json": {
              "version_major": 2,
              "version_minor": 0,
              "model_id": "41d8f01804f4429688e0969d5c0aa5af"
            }
          },
          "metadata": {}
        },
        {
          "output_type": "display_data",
          "data": {
            "text/plain": [
              "config.json:   0%|          | 0.00/570 [00:00<?, ?B/s]"
            ],
            "application/vnd.jupyter.widget-view+json": {
              "version_major": 2,
              "version_minor": 0,
              "model_id": "45c6a3644c154ed3a5cfe92d37e5924e"
            }
          },
          "metadata": {}
        },
        {
          "output_type": "execute_result",
          "data": {
            "text/plain": [
              "['this',\n",
              " 'is',\n",
              " 'an',\n",
              " 'un',\n",
              " '##bel',\n",
              " '##ie',\n",
              " '##va',\n",
              " '##bly',\n",
              " 'boring',\n",
              " 'test',\n",
              " 'sentence',\n",
              " '.']"
            ]
          },
          "metadata": {},
          "execution_count": 5
        }
      ],
      "source": [
        "from transformers import BertTokenizerFast\n",
        "tokenizer = BertTokenizerFast.from_pretrained('bert-base-uncased', do_lower_case=True)\n",
        "tokenizer.tokenize(\"This is an unbelievably boring test sentence.\")"
      ]
    },
    {
      "cell_type": "markdown",
      "id": "ac1924bd",
      "metadata": {
        "id": "ac1924bd"
      },
      "source": [
        "**TODO**:\n",
        "We need to be able to maintain the correct labels (B-I-O tags) for each of the subwords.\n",
        "Complete the following function that takes a list of tokens and a list of B-I-O labels of the same length as parameters, and returns a new token / label pair, as illustrated in the following example.\n",
        "\n",
        "\n",
        "```\n",
        ">>> tokenize_with_labels(\"the fancyful penguin devoured yummy fish .\".split(), \"B-ARG0 I-ARG0 I-ARG0 B-V B-ARG1 I-ARG1 O\".split(), tokenizer)\n",
        "(['the',\n",
        "  'fancy',\n",
        "  '##ful',\n",
        "  'penguin',\n",
        "  'dev',\n",
        "  '##oured',\n",
        "  'yu',\n",
        "  '##mmy',\n",
        "  'fish',\n",
        "  '.'],\n",
        " ['B-ARG0',\n",
        "  'I-ARG0',\n",
        "  'I-ARG0',\n",
        "  'I-ARG0',\n",
        "  'B-V',\n",
        "  'I-V',\n",
        "  'B-ARG1',\n",
        "  'I-ARG1',\n",
        "  'I-ARG1',\n",
        "  'O'])\n",
        "\n",
        "```\n",
        "\n",
        "To approach this problem, iterate through each word/label pair in the sentence. Call the tokenizer on the word. This may result in one or more tokens. Create the correct number of labels to match the number of tokens. Take care to not generate multiple B- tokens.\n",
        "\n",
        "\n",
        "This approach is a bit slower than tokenizing the entire sentence, but is necessary to produce proper input tokenization for the pre-trained BERT model, and the matching target labels."
      ]
    },
    {
      "cell_type": "code",
      "execution_count": null,
      "id": "8140fc39",
      "metadata": {
        "id": "8140fc39"
      },
      "outputs": [],
      "source": [
        "def tokenize_with_labels(sentence, text_labels, tokenizer):\n",
        "    \"\"\"\n",
        "    Word piece tokenization makes it difficult to match word labels\n",
        "    back up with individual word pieces.\n",
        "    \"\"\"\n",
        "    # TODO: not generate multiple B- tokens\n",
        "    tokenized_sentence = []\n",
        "    labels = []\n",
        "\n",
        "    for word, label in zip(sentence, text_labels):\n",
        "        tokens = tokenizer.tokenize(word)\n",
        "        tokenized_sentence.extend(tokens)\n",
        "        labels.extend([label])\n",
        "        if label != \"O\":\n",
        "            labels.extend([\"I-\" + \"-\".join(label.split(\"-\")[1:])] * (len(tokens) - 1))\n",
        "\n",
        "    return tokenized_sentence, labels"
      ]
    },
    {
      "cell_type": "code",
      "execution_count": null,
      "id": "f748d120",
      "metadata": {
        "colab": {
          "base_uri": "https://localhost:8080/"
        },
        "id": "f748d120",
        "outputId": "a2cfc478-387b-41e9-9738-29dfca3b1349"
      },
      "outputs": [
        {
          "output_type": "execute_result",
          "data": {
            "text/plain": [
              "(['the',\n",
              "  'fancy',\n",
              "  '##ful',\n",
              "  'penguin',\n",
              "  'dev',\n",
              "  '##oured',\n",
              "  'yu',\n",
              "  '##mmy',\n",
              "  'fish',\n",
              "  '.'],\n",
              " ['B-ARG0',\n",
              "  'I-ARG0',\n",
              "  'I-ARG0',\n",
              "  'I-ARG0',\n",
              "  'B-V',\n",
              "  'I-V',\n",
              "  'B-ARG1',\n",
              "  'I-ARG1',\n",
              "  'I-ARG1',\n",
              "  'O'])"
            ]
          },
          "metadata": {},
          "execution_count": 7
        }
      ],
      "source": [
        "tokenize_with_labels(\"the fancyful penguin devoured yummy fish .\".split(), \"B-ARG0 I-ARG0 I-ARG0 B-V B-ARG1 I-ARG1 O\".split(), tokenizer)"
      ]
    },
    {
      "cell_type": "markdown",
      "id": "77bb9076",
      "metadata": {
        "id": "77bb9076"
      },
      "source": [
        "### 1.2 Loading the Dataset\n",
        "\n",
        "Next, we are creating a PyTorch [Dataset](https://pytorch.org/docs/stable/data.html#torch.utils.data.Dataset) class. This class acts as a contained for the training, development, and testing data in memory. You should already be familiar with Datasets and Dataloaders from homework 3.\n",
        "\n",
        "1.2.1 **TODO**: Write the \\_\\_init\\_\\_(self, filename) method that reads in the data from a data file (specified by the filename).\n",
        "\n",
        "For each annotation you start with  the tokens in the sentence, and the BIO tags. Then you need to create the following\n",
        "\n",
        "1. call the `tokenize_with_labels` function to tokenize the sentence.\n",
        "2. Add the (token, label) pair to the self.items list.\n",
        "\n",
        "1.2.2 **TODO**: Write the \\_\\_len\\_\\_(self) method that returns the total number of items.\n",
        "\n",
        "1.2.3 **TODO**: Write the \\_\\_getitem\\_\\_(self, k) method that returns a single item in a format BERT will understand.\n",
        "* We need to process the sentence by adding \"\\[CLS\\]\" as the first token and \"\\[SEP\\]\" as the last token. The need to pad the token sequence to 128 tokens using the \"\\[PAD\\]\" symbol. This needs to happen both for the inputs (sentence token sequence) and outputs (BIO tag sequence).\n",
        "* We need to create an *attention mask*, which is a sequence of 128 tokens indicating the actual input symbols (as a 1) and \\[PAD\\] symbols (as a 0).\n",
        "* We need to create a *predicate indicator* mask, which is a sequence of 128 tokens with at most one 1, in the position of the \"B-V\" tag. All other entries should be 0. The model will use this information to understand where the predicate is located.\n",
        "\n",
        "* Finally, we need to convert the token and tag sequence into numeric indices. For the tokens, this can be done using the `tokenizer.convert_tokens_to_ids` method. For the tags, use the `role_to_id` dictionary.\n",
        "Each sequence must be a pytorch tensor of shape (1,128). You can convert a list of integer values like this `torch.tensor(token_ids, dtype=torch.long)`.\n",
        "\n",
        "To keep everything organized, we will return a dictionary in the following format\n",
        "\n",
        "```\n",
        "{'ids': token_tensor,\n",
        " 'targets': tag_tensor,\n",
        " 'mask': attention_mask_tensor,\n",
        " 'pred': predicate_indicator_tensor}\n",
        "```\n",
        "\n",
        "\n",
        "(Hint: To debug these, read in the first annotation only / the first few annotations)\n"
      ]
    },
    {
      "cell_type": "code",
      "execution_count": null,
      "id": "9f5bd32f",
      "metadata": {
        "id": "9f5bd32f"
      },
      "outputs": [],
      "source": [
        "from torch.utils.data import Dataset, DataLoader\n",
        "\n",
        "class SrlData(Dataset):\n",
        "\n",
        "    def __init__(self, filename):\n",
        "\n",
        "        super(SrlData, self).__init__()\n",
        "\n",
        "        self.max_len = 128 # the max number of tokens inputted to the transformer.\n",
        "\n",
        "        self.tokenizer = BertTokenizerFast.from_pretrained('bert-base-uncased', do_lower_case=True)\n",
        "\n",
        "        self.items = []\n",
        "        # complete this method\n",
        "        line_idx = 0\n",
        "        sentence, tags = [], []\n",
        "        for line in open(filename, \"r\"):\n",
        "            line_idx += 1\n",
        "            res = line_idx % 4\n",
        "            if res == 2:\n",
        "                sentence = line.strip().split()\n",
        "            elif res == 0:\n",
        "                tags = line.strip().split()\n",
        "            elif res == 1:\n",
        "                if sentence:\n",
        "                    self.items.append(tuple(tokenize_with_labels(sentence, tags, self.tokenizer)))\n",
        "\n",
        "\n",
        "\n",
        "    def __len__(self):\n",
        "        return len(self.items)\n",
        "\n",
        "    def __getitem__(self, k):\n",
        "        tokens, tags = self.items[k]\n",
        "        if len(tokens)  > self.max_len - 2:\n",
        "            tokens = tokens[:self.max_len - 2]\n",
        "            tags = tags[:self.max_len - 2]\n",
        "        attn_size = len(tokens) + 2\n",
        "        attn_mask = torch.cat((torch.ones(attn_size), torch.zeros(self.max_len - attn_size)))\n",
        "        def preprocess(words, max_len):\n",
        "            words = [\"[CLS]\"] + words + [\"[SEP]\"]\n",
        "            words += [\"[PAD]\"] * (max_len - len(words))\n",
        "            return words\n",
        "        tokens_tensor = self.tokenizer.convert_tokens_to_ids(preprocess(tokens, self.max_len))\n",
        "        default_id = role_to_id[\"O\"]\n",
        "        tags_tensor = [role_to_id[tag] if tag in role_to_id.keys() else default_id for tag in preprocess(tags, self.max_len)]\n",
        "        pred = torch.zeros(self.max_len)\n",
        "        try:\n",
        "            pred_idx = tags_tensor.index(role_to_id[\"B-V\"])\n",
        "            pred[pred_idx] = 1\n",
        "        except ValueError:\n",
        "            pass\n",
        "\n",
        "        #complete this method\n",
        "        return {'ids': torch.tensor(tokens_tensor, dtype = torch.long), #token_tensor,\n",
        "                'mask': attn_mask.to(torch.long), #attn_mask,\n",
        "                'targets': torch.tensor(tags_tensor, dtype = torch.long), #label_tensor,\n",
        "                'pred': pred.to(torch.long), #pred_tensor\n",
        "               }\n"
      ]
    },
    {
      "cell_type": "code",
      "execution_count": null,
      "id": "da0b476d",
      "metadata": {
        "id": "da0b476d"
      },
      "outputs": [],
      "source": [
        "# Reading the training data takes a while for the entire data because we preprocess all data offline\n",
        "data = SrlData(\"propbank_train.tsv\")\n",
        "# data = SrlData(\"test.tsv\")"
      ]
    },
    {
      "cell_type": "code",
      "source": [
        "data[0]"
      ],
      "metadata": {
        "colab": {
          "base_uri": "https://localhost:8080/"
        },
        "id": "oOBrtKzDKwXR",
        "outputId": "1ff06901-fe91-404f-bfaf-b12e82c5b967"
      },
      "id": "oOBrtKzDKwXR",
      "execution_count": null,
      "outputs": [
        {
          "output_type": "execute_result",
          "data": {
            "text/plain": [
              "{'ids': tensor([  101,  2057, 26438,  2135, 13260,  2017,  2000,  3422,  1037,  2569,\n",
              "          3179,  1997,  2408,  2859,  1012,   102,     0,     0,     0,     0,\n",
              "             0,     0,     0,     0,     0,     0,     0,     0,     0,     0,\n",
              "             0,     0,     0,     0,     0,     0,     0,     0,     0,     0,\n",
              "             0,     0,     0,     0,     0,     0,     0,     0,     0,     0,\n",
              "             0,     0,     0,     0,     0,     0,     0,     0,     0,     0,\n",
              "             0,     0,     0,     0,     0,     0,     0,     0,     0,     0,\n",
              "             0,     0,     0,     0,     0,     0,     0,     0,     0,     0,\n",
              "             0,     0,     0,     0,     0,     0,     0,     0,     0,     0,\n",
              "             0,     0,     0,     0,     0,     0,     0,     0,     0,     0,\n",
              "             0,     0,     0,     0,     0,     0,     0,     0,     0,     0,\n",
              "             0,     0,     0,     0,     0,     0,     0,     0,     0,     0,\n",
              "             0,     0,     0,     0,     0,     0,     0,     0]),\n",
              " 'mask': tensor([1, 1, 1, 1, 1, 1, 1, 1, 1, 1, 1, 1, 1, 1, 1, 1, 0, 0, 0, 0, 0, 0, 0, 0,\n",
              "         0, 0, 0, 0, 0, 0, 0, 0, 0, 0, 0, 0, 0, 0, 0, 0, 0, 0, 0, 0, 0, 0, 0, 0,\n",
              "         0, 0, 0, 0, 0, 0, 0, 0, 0, 0, 0, 0, 0, 0, 0, 0, 0, 0, 0, 0, 0, 0, 0, 0,\n",
              "         0, 0, 0, 0, 0, 0, 0, 0, 0, 0, 0, 0, 0, 0, 0, 0, 0, 0, 0, 0, 0, 0, 0, 0,\n",
              "         0, 0, 0, 0, 0, 0, 0, 0, 0, 0, 0, 0, 0, 0, 0, 0, 0, 0, 0, 0, 0, 0, 0, 0,\n",
              "         0, 0, 0, 0, 0, 0, 0, 0]),\n",
              " 'targets': tensor([   1,    5,   19,   43,   28,    6,    8,   32,   32,   32,   32,   32,\n",
              "           32,   32,    4,    2, -100, -100, -100, -100, -100, -100, -100, -100,\n",
              "         -100, -100, -100, -100, -100, -100, -100, -100, -100, -100, -100, -100,\n",
              "         -100, -100, -100, -100, -100, -100, -100, -100, -100, -100, -100, -100,\n",
              "         -100, -100, -100, -100, -100, -100, -100, -100, -100, -100, -100, -100,\n",
              "         -100, -100, -100, -100, -100, -100, -100, -100, -100, -100, -100, -100,\n",
              "         -100, -100, -100, -100, -100, -100, -100, -100, -100, -100, -100, -100,\n",
              "         -100, -100, -100, -100, -100, -100, -100, -100, -100, -100, -100, -100,\n",
              "         -100, -100, -100, -100, -100, -100, -100, -100, -100, -100, -100, -100,\n",
              "         -100, -100, -100, -100, -100, -100, -100, -100, -100, -100, -100, -100,\n",
              "         -100, -100, -100, -100, -100, -100, -100, -100]),\n",
              " 'pred': tensor([0, 0, 0, 0, 1, 0, 0, 0, 0, 0, 0, 0, 0, 0, 0, 0, 0, 0, 0, 0, 0, 0, 0, 0,\n",
              "         0, 0, 0, 0, 0, 0, 0, 0, 0, 0, 0, 0, 0, 0, 0, 0, 0, 0, 0, 0, 0, 0, 0, 0,\n",
              "         0, 0, 0, 0, 0, 0, 0, 0, 0, 0, 0, 0, 0, 0, 0, 0, 0, 0, 0, 0, 0, 0, 0, 0,\n",
              "         0, 0, 0, 0, 0, 0, 0, 0, 0, 0, 0, 0, 0, 0, 0, 0, 0, 0, 0, 0, 0, 0, 0, 0,\n",
              "         0, 0, 0, 0, 0, 0, 0, 0, 0, 0, 0, 0, 0, 0, 0, 0, 0, 0, 0, 0, 0, 0, 0, 0,\n",
              "         0, 0, 0, 0, 0, 0, 0, 0])}"
            ]
          },
          "metadata": {},
          "execution_count": 10
        }
      ]
    },
    {
      "cell_type": "markdown",
      "id": "0730aff9",
      "metadata": {
        "id": "0730aff9"
      },
      "source": [
        "## 2. Model Definition"
      ]
    },
    {
      "cell_type": "code",
      "execution_count": null,
      "id": "cb11f9c0",
      "metadata": {
        "id": "cb11f9c0"
      },
      "outputs": [],
      "source": [
        "from torch.nn import Module, Linear, CrossEntropyLoss\n",
        "from transformers import BertModel"
      ]
    },
    {
      "cell_type": "markdown",
      "id": "da684eff",
      "metadata": {
        "id": "da684eff"
      },
      "source": [
        "We will define the pyTorch model as a subclass of the [torch.nn.Module](https://pytorch.org/docs/stable/generated/torch.nn.Module.html) class. The code for the model is provided for you. It may help to take a look at the documentation to remind you of how Module works. Take a look at how the huggingface BERT model simply becomes another sub-module."
      ]
    },
    {
      "cell_type": "code",
      "execution_count": null,
      "id": "37515695",
      "metadata": {
        "id": "37515695"
      },
      "outputs": [],
      "source": [
        "class SrlModel(Module):\n",
        "\n",
        "    def __init__(self):\n",
        "\n",
        "        super(SrlModel, self).__init__()\n",
        "\n",
        "        self.encoder = BertModel.from_pretrained(\"bert-base-uncased\")\n",
        "\n",
        "        # The following two lines would freeze the BERT parameters and allow us to train the classifier by itself.\n",
        "        # We are fine-tuning the model, so you can leave this commented out!\n",
        "        # for param in self.encoder.parameters():\n",
        "        #    param.requires_grad = False\n",
        "\n",
        "        # The linear classifier head, see model figure in the introduction.\n",
        "        self.classifier = Linear(768, len(role_to_id))\n",
        "\n",
        "\n",
        "    def forward(self, input_ids, attn_mask, pred_indicator):\n",
        "\n",
        "        # This defines the flow of data through the model\n",
        "\n",
        "        # Note the use of the \"token type ids\" which represents the segment encoding explained in the introduction.\n",
        "        # In our segment encoding, 1 indicates the predicate, and 0 indicates everything else.\n",
        "        bert_output =  self.encoder(input_ids=input_ids, attention_mask=attn_mask, token_type_ids=pred_indicator)\n",
        "\n",
        "        enc_tokens = bert_output[0] # the result of encoding the input with BERT\n",
        "        logits = self.classifier(enc_tokens) #feed into the classification layer to produce scores for each tag.\n",
        "\n",
        "        # Note that we are only interested in the argmax for each token, so we do not have to normalize\n",
        "        # to a probability distribution using softmax. The CrossEntropyLoss loss function takes this into account.\n",
        "        # It essentially computes the softmax first and then computes the negative log-likelihood for the target classes.\n",
        "        return logits"
      ]
    },
    {
      "cell_type": "code",
      "execution_count": null,
      "id": "ba23ec3f",
      "metadata": {
        "id": "ba23ec3f",
        "colab": {
          "base_uri": "https://localhost:8080/",
          "height": 49,
          "referenced_widgets": [
            "93bc55ed40f5453f9e3ceda340af2f8b",
            "168d98532d4049d19ac69d64e1a332fd",
            "21822a206d074b03a7b5ee53a59f5d18",
            "20f28bce337d4990a0e1e6b84dceee2f",
            "381d51e3290c44b8a2c8ecfc3724343a",
            "ec7a1ef7fdf5419a841e83d896fb013b",
            "92a44353df4c447d89c955e1724eda9c",
            "7f435f580c9d438db8cb0f272e8e7db4",
            "af0bf45414e647d996933647ed608cc8",
            "c30cae511fe0403d830cb2ab3ee587e6",
            "f7c65ddbe2864b7cb8403dd0dfe2d21b"
          ]
        },
        "outputId": "8f14bac9-0167-4aad-e3d8-dc7cfa310f88"
      },
      "outputs": [
        {
          "output_type": "display_data",
          "data": {
            "text/plain": [
              "model.safetensors:   0%|          | 0.00/440M [00:00<?, ?B/s]"
            ],
            "application/vnd.jupyter.widget-view+json": {
              "version_major": 2,
              "version_minor": 0,
              "model_id": "93bc55ed40f5453f9e3ceda340af2f8b"
            }
          },
          "metadata": {}
        }
      ],
      "source": [
        "model = SrlModel().to(\"cuda\") # create new model and store weights in GPU memory"
      ]
    },
    {
      "cell_type": "markdown",
      "id": "9103d32e",
      "metadata": {
        "id": "9103d32e"
      },
      "source": [
        "Now we are ready to try running the model with just a single input example to check if it is working correctly. Clearly it has not been trained, so the output is not what we expect. But we can see what the loss looks like for an initial sanity check.\n",
        "\n",
        "**TODO**:\n",
        "* Take a single data item from the dev set, as provided by your Dataset class defined above. Obtain the input token ids, attention mask, predicate indicator mask, and target labels.\n",
        "* Run the model on the ids, attention mask, and predicate mask like this:"
      ]
    },
    {
      "cell_type": "code",
      "execution_count": null,
      "id": "f1805480",
      "metadata": {
        "id": "f1805480",
        "colab": {
          "base_uri": "https://localhost:8080/"
        },
        "outputId": "4179db87-394a-4810-ea75-3b015f08d5ea"
      },
      "outputs": [
        {
          "output_type": "execute_result",
          "data": {
            "text/plain": [
              "torch.Size([1, 128, 53])"
            ]
          },
          "metadata": {},
          "execution_count": 14
        }
      ],
      "source": [
        "# pick an item from the dataset. Then run\n",
        "item = data[0]\n",
        "ids, mask, targets, pred = [t.unsqueeze(0).to(\"cuda\") for t in item.values()]\n",
        "outputs = model(ids, mask, pred)\n",
        "outputs.shape"
      ]
    },
    {
      "cell_type": "markdown",
      "id": "cd7fd38b",
      "metadata": {
        "id": "cd7fd38b"
      },
      "source": [
        "**TODO**:\n",
        "Compute the loss on this one item only.\n",
        "The initial loss should be close to -ln(1/num_labels)\n",
        "\n",
        "Without training we would assume that all labels for each token (including the target label) are equally likely, so the negative log probability for the targets should be approximately $$-\\ln(\\frac{1}{\\text{num_labels}}).$$ This is what the loss function should return on a single example. This is a good sanity check to run for any multi-class prediction problem."
      ]
    },
    {
      "cell_type": "code",
      "execution_count": null,
      "id": "1a5f881d",
      "metadata": {
        "id": "1a5f881d",
        "colab": {
          "base_uri": "https://localhost:8080/"
        },
        "outputId": "a1777b34-ab79-4264-98ba-85efebe04920"
      },
      "outputs": [
        {
          "output_type": "execute_result",
          "data": {
            "text/plain": [
              "3.970291913552122"
            ]
          },
          "metadata": {},
          "execution_count": 15
        }
      ],
      "source": [
        "import math\n",
        "-math.log(1 / len(role_to_id), math.e)"
      ]
    },
    {
      "cell_type": "code",
      "execution_count": null,
      "id": "1a124d4f",
      "metadata": {
        "id": "1a124d4f",
        "colab": {
          "base_uri": "https://localhost:8080/"
        },
        "outputId": "99556b86-9130-4800-e390-eb16250fe0d6"
      },
      "outputs": [
        {
          "output_type": "execute_result",
          "data": {
            "text/plain": [
              "3.927945613861084"
            ]
          },
          "metadata": {},
          "execution_count": 16
        }
      ],
      "source": [
        "loss_function = CrossEntropyLoss(ignore_index = -100, reduction='mean')\n",
        "\n",
        "# complete this. Note that you still have to provide a (batch_size, input_pos)\n",
        "# tensor for each parameter, where batch_size =1\n",
        "outputs = model(ids, mask, pred).permute(0, 2, 1)\n",
        "loss = loss_function(outputs, targets)\n",
        "loss.item()   #this should be approximately the score from the previous cell"
      ]
    },
    {
      "cell_type": "markdown",
      "id": "669a1037",
      "metadata": {
        "id": "669a1037"
      },
      "source": [
        "**TODO**: At this point you should also obtain the actual predictions by taking the argmax over each position.\n",
        "The result should look something like this (values will differ).\n",
        "\n",
        "```\n",
        "tensor([[ 1,  4,  4,  4,  4,  4,  5, 29, 29, 29,  4, 28,  6, 32, 32, 32, 32, 32,\n",
        "         32, 32, 30, 30, 32, 30, 32,  4, 32, 32, 30,  4, 49,  4, 49, 32, 30,  4,\n",
        "         32,  4, 32, 32,  4,  2,  4,  4, 32,  4, 32, 32, 32, 32, 30, 32, 32, 30,\n",
        "         32,  4,  4, 49,  4,  4,  4,  4,  4,  4,  4,  4,  4,  4,  6,  6, 32, 32,\n",
        "         30, 32, 32, 32, 32, 32, 30, 30, 30, 32, 30, 49, 49, 32, 32, 30,  4,  4,\n",
        "          4,  4, 29,  4,  4,  4,  4,  4,  4, 32,  4,  4,  4, 32,  4, 30,  4, 32,\n",
        "         30,  4, 32,  4,  4,  4,  4,  4, 32,  4,  4,  4,  4,  4,  4,  4,  4,  4,\n",
        "          4,  4]], device='cuda:0')\n",
        "```\n",
        "\n",
        "Then use the id_to_role dictionary to decode to actual tokens.\n",
        "\n",
        "```\n",
        "['[CLS]', 'O', 'O', 'O', 'O', 'O', 'B-ARG0', 'I-ARG0', 'I-ARG0', 'I-ARG0', 'O', 'B-V', 'B-ARG1', 'I-ARG2', 'I-ARG2', 'I-ARG2', 'I-ARG2', 'I-ARG2', 'I-ARG2', 'I-ARG2', 'I-ARG1', 'I-ARG1', 'I-ARG2', 'I-ARG1', 'I-ARG2', 'O', 'I-ARG2', 'I-ARG2', 'I-ARG1', 'O', 'I-ARGM-TMP', 'O', 'I-ARGM-TMP', 'I-ARG2', 'I-ARG1', 'O', 'I-ARG2', 'O', 'I-ARG2', 'I-ARG2', 'O', '[SEP]', 'O', 'O', 'I-ARG2', 'O', 'I-ARG2', 'I-ARG2', 'I-ARG2', 'I-ARG2', 'I-ARG1', 'I-ARG2', 'I-ARG2', 'I-ARG1', 'I-ARG2', 'O', 'O', 'I-ARGM-TMP', 'O', 'O', 'O', 'O', 'O', 'O', 'O', 'O', 'O', 'O', 'B-ARG1', 'B-ARG1', 'I-ARG2', 'I-ARG2', 'I-ARG1', 'I-ARG2', 'I-ARG2', 'I-ARG2', 'I-ARG2', 'I-ARG2', 'I-ARG1', 'I-ARG1', 'I-ARG1', 'I-ARG2', 'I-ARG1', 'I-ARGM-TMP', 'I-ARGM-TMP', 'I-ARG2', 'I-ARG2', 'I-ARG1', 'O', 'O', 'O', 'O', 'I-ARG0', 'O', 'O', 'O', 'O', 'O', 'O', 'I-ARG2', 'O', 'O', 'O', 'I-ARG2', 'O', 'I-ARG1', 'O', 'I-ARG2', 'I-ARG1', 'O', 'I-ARG2', 'O', 'O', 'O', 'O', 'O', 'I-ARG2', 'O', 'O', 'O', 'O', 'O', 'O', 'O', 'O', 'O', 'O', 'O']\n",
        "```\n",
        "\n",
        "For now, just make sure you understand how to do this for a single example. Later, you will write a more formal function to do this once we have trained the model."
      ]
    },
    {
      "cell_type": "code",
      "execution_count": null,
      "id": "69c2dcc0",
      "metadata": {
        "id": "69c2dcc0",
        "colab": {
          "base_uri": "https://localhost:8080/"
        },
        "outputId": "5726552c-e174-4b49-a96f-d69f5f895e65"
      },
      "outputs": [
        {
          "output_type": "execute_result",
          "data": {
            "text/plain": [
              "tensor([[11, 20, 40, 40, 40, 20, 35, 44, 40, 40, 25, 35, 25, 25, 35, 40, 11, 11,\n",
              "         44, 14, 11, 11, 44, 44, 44, 14, 11, 11, 14, 11, 11, 11, 44, 11, 44, 44,\n",
              "         44, 44, 44, 25, 25, 25, 25, 25,  7, 11, 11, 11, 44, 44, 44, 44, 44, 11,\n",
              "         25, 11, 44, 44, 11, 44, 44, 11, 44, 44, 44, 44, 47, 25, 25, 47, 25,  7,\n",
              "         11, 44,  7, 44, 11, 44, 44, 14, 44, 44, 11, 14, 14, 11, 13, 11, 11, 44,\n",
              "         11, 44, 44, 13, 44, 47, 47, 25, 25, 37, 44, 11, 14, 14, 14, 11, 44, 44,\n",
              "         14, 14, 14, 11, 44, 11, 11, 44, 11, 44, 44, 44, 44, 44, 44, 44, 47, 14,\n",
              "         14, 14]], device='cuda:0')"
            ]
          },
          "metadata": {},
          "execution_count": 17
        }
      ],
      "source": [
        "pred_tags_id = torch.argmax(outputs, dim = 1)\n",
        "pred_tags_id"
      ]
    },
    {
      "cell_type": "code",
      "source": [
        "pred_tags = [id_to_role[x] if x > 0 else id_to_role[-100] for x in pred_tags_id.squeeze().cpu().numpy()]\n",
        "pred_tags"
      ],
      "metadata": {
        "colab": {
          "base_uri": "https://localhost:8080/"
        },
        "id": "l460NOvPf_Ot",
        "outputId": "6011dacb-ef68-4a70-ac84-317389f47aff"
      },
      "id": "l460NOvPf_Ot",
      "execution_count": null,
      "outputs": [
        {
          "output_type": "execute_result",
          "data": {
            "text/plain": [
              "['B-ARGM-ADJ',\n",
              " 'B-ARGM-MOD',\n",
              " 'I-ARGM-EXT',\n",
              " 'I-ARGM-EXT',\n",
              " 'I-ARGM-EXT',\n",
              " 'B-ARGM-MOD',\n",
              " 'I-ARGM-ADJ',\n",
              " 'I-ARGM-MOD',\n",
              " 'I-ARGM-EXT',\n",
              " 'I-ARGM-EXT',\n",
              " 'B-ARGM-TMP',\n",
              " 'I-ARGM-ADJ',\n",
              " 'B-ARGM-TMP',\n",
              " 'B-ARGM-TMP',\n",
              " 'I-ARGM-ADJ',\n",
              " 'I-ARGM-EXT',\n",
              " 'B-ARGM-ADJ',\n",
              " 'B-ARGM-ADJ',\n",
              " 'I-ARGM-MOD',\n",
              " 'B-ARGM-DIR',\n",
              " 'B-ARGM-ADJ',\n",
              " 'B-ARGM-ADJ',\n",
              " 'I-ARGM-MOD',\n",
              " 'I-ARGM-MOD',\n",
              " 'I-ARGM-MOD',\n",
              " 'B-ARGM-DIR',\n",
              " 'B-ARGM-ADJ',\n",
              " 'B-ARGM-ADJ',\n",
              " 'B-ARGM-DIR',\n",
              " 'B-ARGM-ADJ',\n",
              " 'B-ARGM-ADJ',\n",
              " 'B-ARGM-ADJ',\n",
              " 'I-ARGM-MOD',\n",
              " 'B-ARGM-ADJ',\n",
              " 'I-ARGM-MOD',\n",
              " 'I-ARGM-MOD',\n",
              " 'I-ARGM-MOD',\n",
              " 'I-ARGM-MOD',\n",
              " 'I-ARGM-MOD',\n",
              " 'B-ARGM-TMP',\n",
              " 'B-ARGM-TMP',\n",
              " 'B-ARGM-TMP',\n",
              " 'B-ARGM-TMP',\n",
              " 'B-ARGM-TMP',\n",
              " 'B-ARG1-DSP',\n",
              " 'B-ARGM-ADJ',\n",
              " 'B-ARGM-ADJ',\n",
              " 'B-ARGM-ADJ',\n",
              " 'I-ARGM-MOD',\n",
              " 'I-ARGM-MOD',\n",
              " 'I-ARGM-MOD',\n",
              " 'I-ARGM-MOD',\n",
              " 'I-ARGM-MOD',\n",
              " 'B-ARGM-ADJ',\n",
              " 'B-ARGM-TMP',\n",
              " 'B-ARGM-ADJ',\n",
              " 'I-ARGM-MOD',\n",
              " 'I-ARGM-MOD',\n",
              " 'B-ARGM-ADJ',\n",
              " 'I-ARGM-MOD',\n",
              " 'I-ARGM-MOD',\n",
              " 'B-ARGM-ADJ',\n",
              " 'I-ARGM-MOD',\n",
              " 'I-ARGM-MOD',\n",
              " 'I-ARGM-MOD',\n",
              " 'I-ARGM-MOD',\n",
              " 'I-ARGM-PRP',\n",
              " 'B-ARGM-TMP',\n",
              " 'B-ARGM-TMP',\n",
              " 'I-ARGM-PRP',\n",
              " 'B-ARGM-TMP',\n",
              " 'B-ARG1-DSP',\n",
              " 'B-ARGM-ADJ',\n",
              " 'I-ARGM-MOD',\n",
              " 'B-ARG1-DSP',\n",
              " 'I-ARGM-MOD',\n",
              " 'B-ARGM-ADJ',\n",
              " 'I-ARGM-MOD',\n",
              " 'I-ARGM-MOD',\n",
              " 'B-ARGM-DIR',\n",
              " 'I-ARGM-MOD',\n",
              " 'I-ARGM-MOD',\n",
              " 'B-ARGM-ADJ',\n",
              " 'B-ARGM-DIR',\n",
              " 'B-ARGM-DIR',\n",
              " 'B-ARGM-ADJ',\n",
              " 'B-ARGM-CAU',\n",
              " 'B-ARGM-ADJ',\n",
              " 'B-ARGM-ADJ',\n",
              " 'I-ARGM-MOD',\n",
              " 'B-ARGM-ADJ',\n",
              " 'I-ARGM-MOD',\n",
              " 'I-ARGM-MOD',\n",
              " 'B-ARGM-CAU',\n",
              " 'I-ARGM-MOD',\n",
              " 'I-ARGM-PRP',\n",
              " 'I-ARGM-PRP',\n",
              " 'B-ARGM-TMP',\n",
              " 'B-ARGM-TMP',\n",
              " 'I-ARGM-CAU',\n",
              " 'I-ARGM-MOD',\n",
              " 'B-ARGM-ADJ',\n",
              " 'B-ARGM-DIR',\n",
              " 'B-ARGM-DIR',\n",
              " 'B-ARGM-DIR',\n",
              " 'B-ARGM-ADJ',\n",
              " 'I-ARGM-MOD',\n",
              " 'I-ARGM-MOD',\n",
              " 'B-ARGM-DIR',\n",
              " 'B-ARGM-DIR',\n",
              " 'B-ARGM-DIR',\n",
              " 'B-ARGM-ADJ',\n",
              " 'I-ARGM-MOD',\n",
              " 'B-ARGM-ADJ',\n",
              " 'B-ARGM-ADJ',\n",
              " 'I-ARGM-MOD',\n",
              " 'B-ARGM-ADJ',\n",
              " 'I-ARGM-MOD',\n",
              " 'I-ARGM-MOD',\n",
              " 'I-ARGM-MOD',\n",
              " 'I-ARGM-MOD',\n",
              " 'I-ARGM-MOD',\n",
              " 'I-ARGM-MOD',\n",
              " 'I-ARGM-MOD',\n",
              " 'I-ARGM-PRP',\n",
              " 'B-ARGM-DIR',\n",
              " 'B-ARGM-DIR',\n",
              " 'B-ARGM-DIR']"
            ]
          },
          "metadata": {},
          "execution_count": 18
        }
      ]
    },
    {
      "cell_type": "markdown",
      "id": "20d52991",
      "metadata": {
        "id": "20d52991"
      },
      "source": [
        "## 3. Training loop"
      ]
    },
    {
      "cell_type": "markdown",
      "id": "edba250d",
      "metadata": {
        "id": "edba250d"
      },
      "source": [
        "pytorch provides a DataLoader class that can be wrapped around a Dataset to easily use the dataset for training. The DataLoader allows us to easily adjust the batch size and shuffle the data."
      ]
    },
    {
      "cell_type": "code",
      "execution_count": null,
      "id": "2ecd7448",
      "metadata": {
        "id": "2ecd7448"
      },
      "outputs": [],
      "source": [
        "from torch.utils.data import DataLoader\n",
        "loader = DataLoader(data, batch_size = 32, shuffle = True)"
      ]
    },
    {
      "cell_type": "markdown",
      "id": "e7496c62",
      "metadata": {
        "id": "e7496c62"
      },
      "source": [
        "The following cell contains the main training loop. The code should work as written and report the loss after each batch,\n",
        "cumulative average loss after each 100 batches, and print out the final average loss after the epoch.\n",
        "\n",
        "**TODO**: Modify the training loop below so that it also computes the accuracy for each batch and reports the\n",
        "average accuracy after the epoch.\n",
        "The accuracy is the number of correctly predicted token labels out of the number of total predictions.\n",
        "Make sure you exclude [PAD] tokens, i.e. tokens for which the target label is -100. It's okay to include [CLS] and [SEP] in the accuracy calculation."
      ]
    },
    {
      "cell_type": "code",
      "execution_count": null,
      "id": "7a7abad9",
      "metadata": {
        "id": "7a7abad9",
        "scrolled": true
      },
      "outputs": [],
      "source": [
        "loss_function = CrossEntropyLoss(ignore_index = -100, reduction='mean')\n",
        "\n",
        "LEARNING_RATE = 1e-05\n",
        "optimizer = torch.optim.AdamW(params=model.parameters(), lr=LEARNING_RATE)\n",
        "\n",
        "device = 'cuda'\n",
        "\n",
        "def train():\n",
        "    \"\"\"\n",
        "    Train the model for one epoch.\n",
        "    \"\"\"\n",
        "    tr_loss = 0\n",
        "    nb_tr_examples, nb_tr_steps = 0, 0\n",
        "    tr_preds, tr_labels = [], []\n",
        "    # put model in training mode\n",
        "    model.train()\n",
        "\n",
        "    for idx, batch in enumerate(loader):\n",
        "\n",
        "        # Get the encoded data for this batch and push it to the GPU\n",
        "        ids = batch['ids'].to(device, dtype = torch.long)\n",
        "        mask = batch['mask'].to(device, dtype = torch.long)\n",
        "        targets = batch['targets'].to(device, dtype = torch.long)\n",
        "        pred_mask = batch['pred'].to(device, dtype = torch.long)\n",
        "\n",
        "        # Run the forward pass of the model\n",
        "        logits = model(input_ids=ids, attn_mask=mask, pred_indicator=pred_mask)\n",
        "        loss = loss_function(logits.transpose(2,1), targets)\n",
        "        tr_loss += loss.item()\n",
        "        # print(\"Batch loss: \", loss.item()) # can comment out if too verbose.\n",
        "\n",
        "        nb_tr_steps += 1\n",
        "        nb_tr_examples += targets.size(0)\n",
        "\n",
        "        if idx % 100==0:\n",
        "            torch.cuda.empty_cache() # can help if you run into memory issues\n",
        "            curr_avg_loss = tr_loss/nb_tr_steps\n",
        "            print(f\"Current average loss: {curr_avg_loss}\")\n",
        "\n",
        "        # Compute accuracy for this batch\n",
        "        matching = torch.sum(torch.argmax(logits,dim=2) == targets)\n",
        "        predictions = torch.sum(torch.where(targets==-100,0,1))\n",
        "\n",
        "        # Run the backward pass to update parameters\n",
        "        optimizer.zero_grad()\n",
        "        loss.backward()\n",
        "        optimizer.step()\n",
        "\n",
        "    epoch_loss = tr_loss / nb_tr_steps\n",
        "    print(f\"Training loss epoch: {epoch_loss}\")"
      ]
    },
    {
      "cell_type": "markdown",
      "id": "890d12b0",
      "metadata": {
        "id": "890d12b0"
      },
      "source": [
        "Now let's train the model for one epoch. This will take a while (up to a few hours)."
      ]
    },
    {
      "cell_type": "code",
      "execution_count": null,
      "id": "bef88882",
      "metadata": {
        "id": "bef88882"
      },
      "outputs": [],
      "source": [
        "train()"
      ]
    },
    {
      "cell_type": "code",
      "source": [
        "model.load_state_dict(torch.load(\"srl_model_fulltrain_1epoch_finetune_1e-05.pt\"))\n",
        "# torch.save(model.state_dict(), \"srl_model_fulltrain_1epoch_finetune_1e-05.pt\")"
      ],
      "metadata": {
        "id": "LycZWB9xChWx",
        "colab": {
          "base_uri": "https://localhost:8080/"
        },
        "outputId": "ccde1b8c-406d-4b0d-9614-898ecf653661"
      },
      "id": "LycZWB9xChWx",
      "execution_count": null,
      "outputs": [
        {
          "output_type": "stream",
          "name": "stderr",
          "text": [
            "<ipython-input-22-be0160305474>:1: FutureWarning: You are using `torch.load` with `weights_only=False` (the current default value), which uses the default pickle module implicitly. It is possible to construct malicious pickle data which will execute arbitrary code during unpickling (See https://github.com/pytorch/pytorch/blob/main/SECURITY.md#untrusted-models for more details). In a future release, the default value for `weights_only` will be flipped to `True`. This limits the functions that could be executed during unpickling. Arbitrary objects will no longer be allowed to be loaded via this mode unless they are explicitly allowlisted by the user via `torch.serialization.add_safe_globals`. We recommend you start setting `weights_only=True` for any use case where you don't have full control of the loaded file. Please open an issue on GitHub for any issues related to this experimental feature.\n",
            "  model.load_state_dict(torch.load(\"srl_model_fulltrain_1epoch_finetune_1e-05.pt\"))\n"
          ]
        },
        {
          "output_type": "execute_result",
          "data": {
            "text/plain": [
              "<All keys matched successfully>"
            ]
          },
          "metadata": {},
          "execution_count": 22
        }
      ]
    },
    {
      "cell_type": "markdown",
      "id": "f8507d02",
      "metadata": {
        "id": "f8507d02"
      },
      "source": [
        "In my experiments, I found that two epochs are needed for good performance."
      ]
    },
    {
      "cell_type": "code",
      "execution_count": null,
      "id": "0070c530",
      "metadata": {
        "id": "0070c530",
        "colab": {
          "base_uri": "https://localhost:8080/"
        },
        "outputId": "201bc1d0-55fa-49f8-9823-a6caa879f79e"
      },
      "outputs": [
        {
          "output_type": "stream",
          "name": "stdout",
          "text": [
            "Current average loss: 0.26714029908180237\n",
            "Current average loss: 0.4103327729914448\n",
            "Current average loss: 0.41509784987909876\n",
            "Current average loss: 0.40791290790535684\n",
            "Current average loss: 0.40104630567189165\n",
            "Current average loss: 0.39647412201958504\n",
            "Current average loss: 0.3970461881002055\n",
            "Current average loss: 0.3962316813848158\n",
            "Current average loss: 0.3935699650968952\n",
            "Current average loss: 0.39206912496709134\n",
            "Current average loss: 0.3921664925841066\n",
            "Current average loss: 0.3924591219852882\n",
            "Current average loss: 0.3918532345391233\n",
            "Current average loss: 0.39013337586175284\n",
            "Current average loss: 0.39013346208579874\n",
            "Current average loss: 0.3897164900111485\n",
            "Current average loss: 0.38867897571510707\n",
            "Current average loss: 0.3875442894853472\n",
            "Current average loss: 0.38572019941769725\n",
            "Current average loss: 0.38587059068058993\n",
            "Current average loss: 0.3849622156994156\n",
            "Current average loss: 0.3851497924679634\n",
            "Current average loss: 0.3849624613234803\n",
            "Current average loss: 0.3847646672264072\n",
            "Current average loss: 0.3841870143196574\n",
            "Current average loss: 0.38340076975158005\n",
            "Current average loss: 0.3827708921710696\n",
            "Current average loss: 0.3821666474277909\n",
            "Current average loss: 0.38189332422849237\n",
            "Current average loss: 0.3814057562627368\n",
            "Current average loss: 0.38166650042300304\n",
            "Current average loss: 0.3809846771201638\n",
            "Current average loss: 0.38045740268149253\n",
            "Current average loss: 0.3801386190684988\n",
            "Current average loss: 0.37999337277178274\n",
            "Current average loss: 0.37942577578857334\n",
            "Current average loss: 0.3791785270091528\n",
            "Current average loss: 0.37883252115611676\n",
            "Current average loss: 0.378413984145782\n",
            "Current average loss: 0.37800061126315754\n",
            "Current average loss: 0.37671422989658643\n",
            "Current average loss: 0.3763840845905261\n",
            "Current average loss: 0.37693871939020535\n",
            "Current average loss: 0.37674203572218373\n",
            "Current average loss: 0.3762585853167865\n",
            "Current average loss: 0.37530332619323914\n",
            "Current average loss: 0.3746678254554334\n",
            "Current average loss: 0.3744485996373535\n",
            "Current average loss: 0.3738961201816816\n",
            "Current average loss: 0.37351606582846114\n",
            "Current average loss: 0.3730420974809345\n",
            "Current average loss: 0.372407150622607\n",
            "Current average loss: 0.37197092484766603\n",
            "Current average loss: 0.37145120399506715\n",
            "Current average loss: 0.37118607307143664\n",
            "Current average loss: 0.37083954621398263\n",
            "Current average loss: 0.3704319789000035\n",
            "Current average loss: 0.36981145902576834\n",
            "Current average loss: 0.36965058065425566\n",
            "Current average loss: 0.3691584684536773\n",
            "Current average loss: 0.36874651090316307\n",
            "Current average loss: 0.3684449605271281\n",
            "Current average loss: 0.36801666675811046\n",
            "Current average loss: 0.3676777144102062\n",
            "Current average loss: 0.3672290362698215\n",
            "Current average loss: 0.36685376455028906\n",
            "Current average loss: 0.36659846299323257\n",
            "Current average loss: 0.36637040910778995\n",
            "Current average loss: 0.3661272138512725\n",
            "Current average loss: 0.3656875839616972\n",
            "Current average loss: 0.3652893481921118\n",
            "Current average loss: 0.3648561193842382\n",
            "Current average loss: 0.36444573260925495\n",
            "Current average loss: 0.3640367885039467\n",
            "Current average loss: 0.3639045300835726\n",
            "Current average loss: 0.36357693896522014\n",
            "Current average loss: 0.36320217966606017\n",
            "Current average loss: 0.3630409686025699\n",
            "Current average loss: 0.3627502214683583\n",
            "Current average loss: 0.36223152698259414\n",
            "Current average loss: 0.36175212435682275\n",
            "Current average loss: 0.36143074613609455\n",
            "Current average loss: 0.3609987205747729\n",
            "Current average loss: 0.36062993028895307\n",
            "Current average loss: 0.3602143399432477\n",
            "Current average loss: 0.359826633348884\n",
            "Current average loss: 0.35958732672208077\n",
            "Current average loss: 0.35908613278528506\n",
            "Current average loss: 0.3587651010460914\n",
            "Current average loss: 0.3583309714689829\n",
            "Current average loss: 0.35810081114101217\n",
            "Current average loss: 0.35786074002409174\n",
            "Current average loss: 0.3575501266643024\n",
            "Current average loss: 0.3571714383340013\n",
            "Current average loss: 0.35683012047500995\n",
            "Current average loss: 0.35639175888726915\n",
            "Current average loss: 0.3560708179447554\n",
            "Current average loss: 0.3558015182496051\n",
            "Current average loss: 0.3555882552845991\n",
            "Training loss epoch: 0.35549539091005955\n"
          ]
        }
      ],
      "source": [
        "train()"
      ]
    },
    {
      "cell_type": "markdown",
      "id": "4005af14",
      "metadata": {
        "id": "4005af14"
      },
      "source": [
        "I ended up with a training loss of about 0.19 and a training accuracy of 0.94. Specific values may differ.\n",
        "\n",
        "At this point, it's a good idea to save the model (or rather the parameter dictionary) so you can continue evaluating the model without having to retrain."
      ]
    },
    {
      "cell_type": "code",
      "execution_count": null,
      "id": "542403f2",
      "metadata": {
        "id": "542403f2"
      },
      "outputs": [],
      "source": [
        "torch.save(model.state_dict(), \"srl_model_fulltrain_2epoch_finetune_1e-05.pt\")"
      ]
    },
    {
      "cell_type": "markdown",
      "id": "01dc1647",
      "metadata": {
        "id": "01dc1647"
      },
      "source": [
        "## 4. Decoding"
      ]
    },
    {
      "cell_type": "code",
      "execution_count": null,
      "id": "44d7b2cc",
      "metadata": {
        "id": "44d7b2cc",
        "colab": {
          "base_uri": "https://localhost:8080/"
        },
        "outputId": "4dabc65c-f46f-4f80-9bff-ee48e09cd75e"
      },
      "outputs": [
        {
          "output_type": "stream",
          "name": "stderr",
          "text": [
            "<ipython-input-25-56056f4e4de6>:4: FutureWarning: You are using `torch.load` with `weights_only=False` (the current default value), which uses the default pickle module implicitly. It is possible to construct malicious pickle data which will execute arbitrary code during unpickling (See https://github.com/pytorch/pytorch/blob/main/SECURITY.md#untrusted-models for more details). In a future release, the default value for `weights_only` will be flipped to `True`. This limits the functions that could be executed during unpickling. Arbitrary objects will no longer be allowed to be loaded via this mode unless they are explicitly allowlisted by the user via `torch.serialization.add_safe_globals`. We recommend you start setting `weights_only=True` for any use case where you don't have full control of the loaded file. Please open an issue on GitHub for any issues related to this experimental feature.\n",
            "  model.load_state_dict(torch.load(\"srl_model_fulltrain_2epoch_finetune_1e-05.pt\"))\n"
          ]
        }
      ],
      "source": [
        "# Optional step: If you stopped working after part 3, first load the trained model\n",
        "\n",
        "model = SrlModel().to('cuda')\n",
        "model.load_state_dict(torch.load(\"srl_model_fulltrain_2epoch_finetune_1e-05.pt\"))\n",
        "model = model.to('cuda')"
      ]
    },
    {
      "cell_type": "markdown",
      "id": "44e07781",
      "metadata": {
        "id": "44e07781"
      },
      "source": [
        "**TODO (this is the fun part)**: Now that we have a trained model, let's try labeling an unseen example sentence. Complete the functions decode_output and label_sentence below. decode_output takes the logits returned by the model, extracts the argmax to obtain the label predictions for each token, and then translate the result into a list of string labels.\n",
        "\n",
        "label_sentence takes a list of input tokens and a predicate index, prepares the model input, call the model and then call decode_output to produce a final result.\n",
        "\n",
        "Note that you have already implemented all components necessary (preparing the input data from the token list and predicate index, decoding the model output). But now you are putting it together in one convenient function."
      ]
    },
    {
      "cell_type": "code",
      "execution_count": null,
      "id": "b72fc567",
      "metadata": {
        "id": "b72fc567"
      },
      "outputs": [],
      "source": [
        "tokens = \"A U. N. team spent an hour inside the hospital , where it found evident signs of shelling and gunfire .\".split()"
      ]
    },
    {
      "cell_type": "code",
      "execution_count": null,
      "id": "9026d718",
      "metadata": {
        "id": "9026d718"
      },
      "outputs": [],
      "source": [
        "def decode_output(logits): # it will be useful to have this in a separate function later on\n",
        "    \"\"\"\n",
        "    Given the model output, return a list of string labels for each token.\n",
        "    \"\"\"\n",
        "    pred_id = torch.argmax(logits, dim = 1)\n",
        "    # TODO: check argmax == 0\n",
        "    return [id_to_role[x] if x > 0 else id_to_role[-100] for x in pred_id.squeeze().cpu().numpy()]\n"
      ]
    },
    {
      "cell_type": "code",
      "execution_count": null,
      "id": "76f21f29",
      "metadata": {
        "id": "76f21f29"
      },
      "outputs": [],
      "source": [
        "def label_sentence(tokens, pred_idx):\n",
        "\n",
        "    # complete this function to prepare token_ids, attention mask, predicate mask, then call the model.\n",
        "    # Decode the output to produce a list of labels.\n",
        "    max_len = data.max_len\n",
        "    # token_ids = tokenizer.convert_tokens_to_ids(tokens)\n",
        "    attn_size = len(tokens) + 2\n",
        "    attn_mask = torch.cat((torch.ones(attn_size), torch.zeros(max_len - attn_size)))\n",
        "    tokens = [\"[CLS]\"] + tokens + [\"[SEP]\"]\n",
        "    tokens += [\"[PAD]\"] * (max_len - len(tokens))\n",
        "    tokens_tensor = tokenizer.convert_tokens_to_ids(tokens)\n",
        "    tokens_tensor = torch.tensor(tokens_tensor).unsqueeze(0).to(torch.long)\n",
        "    attn_mask = attn_mask.unsqueeze(0).to(torch.long)\n",
        "    pred = torch.zeros(max_len)\n",
        "    pred[pred_idx] = 1\n",
        "    pred = pred.unsqueeze(0).to(torch.long)\n",
        "    logits = model(tokens_tensor.to(device), attn_mask.to(device), pred.to(device))\n",
        "    return decode_output(logits.squeeze(0))"
      ]
    },
    {
      "cell_type": "code",
      "execution_count": null,
      "id": "98431b63",
      "metadata": {
        "id": "98431b63",
        "colab": {
          "base_uri": "https://localhost:8080/"
        },
        "outputId": "f3162310-9fdd-4aab-d4ed-1d203842e567"
      },
      "outputs": [
        {
          "output_type": "stream",
          "name": "stdout",
          "text": [
            "torch.Size([128, 53])\n",
            "A [CLS]\n",
            "U. O\n",
            "N. O\n",
            "team O\n",
            "spent O\n",
            "an O\n",
            "hour O\n",
            "inside O\n",
            "the O\n",
            "hospital B-ARGM-LOC\n",
            ", I-ARGM-LOC\n",
            "where O\n",
            "it B-ARG0\n",
            "found B-V\n",
            "evident B-ARG1\n",
            "signs I-ARG1\n",
            "of I-ARG1\n",
            "shelling I-ARG1\n",
            "and I-ARG1\n",
            "gunfire I-ARG1\n",
            ". O\n"
          ]
        }
      ],
      "source": [
        "# Now you should be able to run\n",
        "\n",
        "label_test = label_sentence(tokens, 13) # Predicate is \"found\"\n",
        "for x, y in zip(tokens, label_test):\n",
        "    print(x, y)"
      ]
    },
    {
      "cell_type": "markdown",
      "id": "1d6c710b",
      "metadata": {
        "id": "1d6c710b"
      },
      "source": [
        "The expected output is somethign like this:\n",
        "```   \n",
        " ('A', 'O'),\n",
        " ('U.', 'O'),\n",
        " ('N.', 'O'),\n",
        " ('team', 'O'),\n",
        " ('spent', 'O'),\n",
        " ('an', 'O'),\n",
        " ('hour', 'O'),\n",
        " ('inside', 'O'),\n",
        " ('the', 'B-ARGM-LOC'),\n",
        " ('hospital', 'I-ARGM-LOC'),\n",
        " (',', 'O'),\n",
        " ('where', 'B-ARGM-LOC'),\n",
        " ('it', 'B-ARG0'),\n",
        " ('found', 'B-V'),\n",
        " ('evident', 'B-ARG1'),\n",
        " ('signs', 'I-ARG1'),\n",
        " ('of', 'I-ARG1'),\n",
        " ('shelling', 'I-ARG1'),\n",
        " ('and', 'I-ARG1'),\n",
        " ('gunfire', 'I-ARG1'),\n",
        " ('.', 'O'),\n",
        "```\n"
      ]
    },
    {
      "cell_type": "markdown",
      "id": "b6c0237e",
      "metadata": {
        "id": "b6c0237e"
      },
      "source": [
        "### 5. Evaluation 1: Token-Based Accuracy\n",
        "We want to evaluate the model on the dev or test set."
      ]
    },
    {
      "cell_type": "code",
      "execution_count": null,
      "id": "cc7aa897",
      "metadata": {
        "id": "cc7aa897"
      },
      "outputs": [],
      "source": [
        "dev_data = SrlData(\"propbank_dev.tsv\") # Takes a while because we preprocess all data offline"
      ]
    },
    {
      "cell_type": "code",
      "execution_count": null,
      "id": "dd62569e",
      "metadata": {
        "id": "dd62569e"
      },
      "outputs": [],
      "source": [
        "from torch.utils.data import DataLoader\n",
        "loader = DataLoader(dev_data, batch_size = 1, shuffle = False)"
      ]
    },
    {
      "cell_type": "code",
      "execution_count": null,
      "id": "4bcb3a78",
      "metadata": {
        "id": "4bcb3a78"
      },
      "outputs": [],
      "source": [
        "# Optional: Load the model again if you stopped working prior to this step.\n",
        "# model = SrlModel()\n",
        "# model.load_state_dict(torch.load(\"srl_model_fulltrain_2epoch_finetune_1e-05.pt\"))\n",
        "# model = mode.to('cuda')"
      ]
    },
    {
      "cell_type": "markdown",
      "id": "cc8ababd",
      "metadata": {
        "id": "cc8ababd"
      },
      "source": [
        "**TODO**: Complete the evaluate_token_accuracy function below. The function should iterate through the items in the data loader (see training loop in part 3). Run the model on each sentence/predicate pair and extract the predictions.\n",
        "\n",
        "For each sentence, count the correct predictions and the total predictions. Finally, compute the accuracy as #correct_predictions / #total_predictions\n",
        "\n",
        "Careful: You need to filter out the padded positions ([PAD] target tokens), as well as [CLS] and [SEP]. It's okay to include [B-V] in the count though."
      ]
    },
    {
      "cell_type": "code",
      "execution_count": null,
      "id": "fa091465",
      "metadata": {
        "id": "fa091465"
      },
      "outputs": [],
      "source": [
        "def evaluate_token_accuracy(model, loader):\n",
        "\n",
        "    model.eval() # put model in evaluation mode\n",
        "\n",
        "    # for the accuracy\n",
        "    total_correct = 0 # number of correct token label predictions.\n",
        "    total_predictions = 0 # number of total predictions = number of tokens in the data.\n",
        "\n",
        "    # iterate over the data here.\n",
        "    with torch.no_grad():\n",
        "        for idx, batch in enumerate(loader):\n",
        "            ids = batch['ids'].to(device, dtype = torch.long)\n",
        "            mask = batch['mask'].to(device, dtype = torch.long)\n",
        "            targets = batch['targets'].to(device, dtype = torch.long)\n",
        "            pred_mask = batch['pred'].to(device, dtype = torch.long)\n",
        "            logits = model(input_ids=ids, attn_mask=mask, pred_indicator=pred_mask)\n",
        "            matching = torch.sum(torch.argmax(logits,dim=2) == targets)\n",
        "            predictions = torch.sum(torch.where(targets!=-100,0,1))\n",
        "            total_correct += matching\n",
        "            total_predictions += predictions\n",
        "\n",
        "    acc = total_correct / total_predictions\n",
        "    print(f\"Accuracy: {acc}\")\n",
        "    return acc\n"
      ]
    },
    {
      "cell_type": "code",
      "source": [
        "evaluate_token_accuracy(model, loader)"
      ],
      "metadata": {
        "colab": {
          "base_uri": "https://localhost:8080/"
        },
        "id": "mchxRLlYif0V",
        "outputId": "6c59c3c9-8090-4a7f-bbb1-f481f765582a"
      },
      "id": "mchxRLlYif0V",
      "execution_count": null,
      "outputs": [
        {
          "output_type": "stream",
          "name": "stdout",
          "text": [
            "Accuracy: 0.27343499660491943\n"
          ]
        }
      ]
    },
    {
      "cell_type": "markdown",
      "id": "9fb27239",
      "metadata": {
        "id": "9fb27239"
      },
      "source": [
        "### 6. Span-Based evaluation\n",
        "\n",
        "While the accuracy score in part 5 is encouraging, an accuracy-based evaluation is problematic for two reasons. First, most of the target labels are actually O. Second, it only tells us that per-token prediction works, but does not directly evaluate the SRL performance.\n",
        "\n",
        "Instead, SRL systems are typically evaluated on micro-averaged precision, recall, and F1-score for predicting labeled spans.\n",
        "\n",
        "More specifically, for each sentence/predicate input, we run the model, decode the output, and extract a set of labeled spans (from the output and the target labels). These spans are (i,j,label) tuples.  \n",
        "\n",
        "We then compute the true_positives, false_positives, and false_negatives based on these spans.\n",
        "\n",
        "In the end, we can compute\n",
        "\n",
        "* Precision:  true_positive / (true_positives + false_positives)  , that is the number of correct spans out of all predicted spans.\n",
        "\n",
        "* Recall: true_positives / (true_positives + false_negatives) , that is the number of correct spans out of all target spans.\n",
        "\n",
        "* F1-score:   (2 * precision * recall) / (precision + recall)\n",
        "\n",
        "\n",
        "For example, consider\n",
        "\n",
        "| |[CLS]|The|judge|scheduled|to|preside|over|his|trial|was|removed|from|the|case|today|.|             \n",
        "|--||---|-----|---------|--|-------|----|---|-----|---|-------|----|---|----|-----|-|             \n",
        "||0|1|2|3|4|5|6|7|8|9|1O|11|12|13|14|15|\n",
        "|target|[CLS]|B-ARG1|I-ARG1|B-V|B-ARG2|I-ARG2|I-ARG2|I-ARG2|I-ARG2|O|O|O|O|O|O|O|\n",
        "|prediction|[CLS]|B-ARG1|I-ARG1|B-V|I-ARG2|I-ARG2|O|O|O|O|O|O|O|O|B-ARGM-TMP|O|\n",
        "\n",
        "The target spans are (1,2,\"ARG1\"), and (4,8,\"ARG2\").\n",
        "\n",
        "The predicted spans would be (1,2,\"ARG1\"), (14,14,\"ARGM-TMP\"). Note that in the prediction, there is no proper ARG2 span because we are missing the B-ARG2 token, so this span should not be created.\n",
        "\n",
        "So for this sentence we woudl get: true_positives: 1 false_positives: 1 false_negatives: 1\n",
        "\n",
        "*TODO*: Complete the function evaluate_spans that performs the span-based evaluation on the given model and data loader. You can use the provided extract_spans function, which returns the spans as a dictionary. For example\n",
        "{(1,2): \"ARG1\", (4,8):\"ARG2\"}"
      ]
    },
    {
      "cell_type": "code",
      "execution_count": null,
      "id": "379cfe6a",
      "metadata": {
        "id": "379cfe6a"
      },
      "outputs": [],
      "source": [
        "def extract_spans(labels):\n",
        "    spans = {} # map (start,end) ids to label\n",
        "    current_span_start = 0\n",
        "    current_span_type = \"\"\n",
        "    inside = False\n",
        "    for i, label in enumerate(labels):\n",
        "        if label.startswith(\"B\"):\n",
        "            if inside:\n",
        "                if current_span_type != \"V\":\n",
        "                    spans[(current_span_start,i)] = current_span_type\n",
        "            current_span_start = i\n",
        "            current_span_type = label[2:]\n",
        "            inside = True\n",
        "        elif inside and label.startswith(\"O\"):\n",
        "            if current_span_type != \"V\":\n",
        "                spans[(current_span_start,i)] = current_span_type\n",
        "            inside = False\n",
        "        elif inside and label.startswith(\"I\") and label[2:] != current_span_type:\n",
        "            if current_span_type != \"V\":\n",
        "                spans[(current_span_start,i)] = current_span_type\n",
        "            inside = False\n",
        "    return spans\n"
      ]
    },
    {
      "cell_type": "code",
      "execution_count": null,
      "id": "1a5486ca",
      "metadata": {
        "id": "1a5486ca",
        "colab": {
          "base_uri": "https://localhost:8080/",
          "height": 305
        },
        "outputId": "7deea47f-d99c-42ed-9f04-797dc910291d"
      },
      "outputs": [
        {
          "output_type": "error",
          "ename": "ZeroDivisionError",
          "evalue": "division by zero",
          "traceback": [
            "\u001b[0;31m---------------------------------------------------------------------------\u001b[0m",
            "\u001b[0;31mZeroDivisionError\u001b[0m                         Traceback (most recent call last)",
            "\u001b[0;32m<ipython-input-57-e4f34131db62>\u001b[0m in \u001b[0;36m<cell line: 19>\u001b[0;34m()\u001b[0m\n\u001b[1;32m     17\u001b[0m     \u001b[0mprint\u001b[0m\u001b[0;34m(\u001b[0m\u001b[0;34mf\"Overall P: {total_p}  Overall R: {total_r}  Overall F1: {total_f}\"\u001b[0m\u001b[0;34m)\u001b[0m\u001b[0;34m\u001b[0m\u001b[0;34m\u001b[0m\u001b[0m\n\u001b[1;32m     18\u001b[0m \u001b[0;34m\u001b[0m\u001b[0m\n\u001b[0;32m---> 19\u001b[0;31m \u001b[0mevaluate_spans\u001b[0m\u001b[0;34m(\u001b[0m\u001b[0mmodel\u001b[0m\u001b[0;34m,\u001b[0m \u001b[0mloader\u001b[0m\u001b[0;34m)\u001b[0m\u001b[0;34m\u001b[0m\u001b[0;34m\u001b[0m\u001b[0m\n\u001b[0m",
            "\u001b[0;32m<ipython-input-57-e4f34131db62>\u001b[0m in \u001b[0;36mevaluate_spans\u001b[0;34m(model, loader)\u001b[0m\n\u001b[1;32m     11\u001b[0m \u001b[0;34m\u001b[0m\u001b[0m\n\u001b[1;32m     12\u001b[0m \u001b[0;34m\u001b[0m\u001b[0m\n\u001b[0;32m---> 13\u001b[0;31m     \u001b[0mtotal_p\u001b[0m \u001b[0;34m=\u001b[0m \u001b[0mtotal_tp\u001b[0m \u001b[0;34m/\u001b[0m \u001b[0;34m(\u001b[0m\u001b[0mtotal_tp\u001b[0m \u001b[0;34m+\u001b[0m \u001b[0mtotal_fp\u001b[0m\u001b[0;34m)\u001b[0m\u001b[0;34m\u001b[0m\u001b[0;34m\u001b[0m\u001b[0m\n\u001b[0m\u001b[1;32m     14\u001b[0m     \u001b[0mtotal_r\u001b[0m \u001b[0;34m=\u001b[0m \u001b[0mtotal_tp\u001b[0m \u001b[0;34m/\u001b[0m \u001b[0;34m(\u001b[0m\u001b[0mtotal_tp\u001b[0m \u001b[0;34m+\u001b[0m \u001b[0mtotal_fn\u001b[0m\u001b[0;34m)\u001b[0m\u001b[0;34m\u001b[0m\u001b[0;34m\u001b[0m\u001b[0m\n\u001b[1;32m     15\u001b[0m     \u001b[0mtotal_f\u001b[0m \u001b[0;34m=\u001b[0m \u001b[0;34m(\u001b[0m\u001b[0;36m2\u001b[0m \u001b[0;34m*\u001b[0m \u001b[0mtotal_p\u001b[0m \u001b[0;34m*\u001b[0m\u001b[0mtotal_r\u001b[0m\u001b[0;34m)\u001b[0m \u001b[0;34m/\u001b[0m \u001b[0;34m(\u001b[0m\u001b[0mtotal_p\u001b[0m \u001b[0;34m+\u001b[0m \u001b[0mtotal_r\u001b[0m\u001b[0;34m)\u001b[0m\u001b[0;34m\u001b[0m\u001b[0;34m\u001b[0m\u001b[0m\n",
            "\u001b[0;31mZeroDivisionError\u001b[0m: division by zero"
          ]
        }
      ],
      "source": [
        "def evaluate_spans(model, loader):\n",
        "\n",
        "\n",
        "    total_tp = 0\n",
        "    total_fp = 0\n",
        "    total_fn = 0\n",
        "\n",
        "    for idx, batch in enumerate(loader):\n",
        "\n",
        "        pass # compelte this\n",
        "\n",
        "\n",
        "    total_p = total_tp / (total_tp + total_fp)\n",
        "    total_r = total_tp / (total_tp + total_fn)\n",
        "    total_f = (2 * total_p *total_r) / (total_p + total_r)\n",
        "\n",
        "    print(f\"Overall P: {total_p}  Overall R: {total_r}  Overall F1: {total_f}\")\n",
        "\n",
        "evaluate_spans(model, loader)"
      ]
    },
    {
      "cell_type": "markdown",
      "id": "c0e35d04",
      "metadata": {
        "id": "c0e35d04"
      },
      "source": [
        "In my evaluation, I got an F score of 0.82  (which slightly below the state-of-the art in 2018)"
      ]
    },
    {
      "cell_type": "markdown",
      "id": "bd94c3a2",
      "metadata": {
        "id": "bd94c3a2"
      },
      "source": [
        "### OPTIONAL:\n",
        "\n",
        "Repeat the span-based evaluation, but print out precision/recall/f1-score for each role separately."
      ]
    }
  ],
  "metadata": {
    "colab": {
      "provenance": [],
      "gpuType": "T4",
      "toc_visible": true
    },
    "kernelspec": {
      "display_name": "Python 3",
      "name": "python3"
    },
    "language_info": {
      "codemirror_mode": {
        "name": "ipython",
        "version": 3
      },
      "file_extension": ".py",
      "mimetype": "text/x-python",
      "name": "python",
      "nbconvert_exporter": "python",
      "pygments_lexer": "ipython3",
      "version": "3.9.12"
    },
    "widgets": {
      "application/vnd.jupyter.widget-state+json": {
        "bea62646dc9541229b04a6eb17522205": {
          "model_module": "@jupyter-widgets/controls",
          "model_name": "HBoxModel",
          "model_module_version": "1.5.0",
          "state": {
            "_dom_classes": [],
            "_model_module": "@jupyter-widgets/controls",
            "_model_module_version": "1.5.0",
            "_model_name": "HBoxModel",
            "_view_count": null,
            "_view_module": "@jupyter-widgets/controls",
            "_view_module_version": "1.5.0",
            "_view_name": "HBoxView",
            "box_style": "",
            "children": [
              "IPY_MODEL_6f526ace6da34269aa6e29f23d19391b",
              "IPY_MODEL_5743e0d5565c4f40a36d28fd63c9e86c",
              "IPY_MODEL_7a9f383e38dd4b099a026930621828f1"
            ],
            "layout": "IPY_MODEL_823c2384086c4d2a810b85c16fad88f1"
          }
        },
        "6f526ace6da34269aa6e29f23d19391b": {
          "model_module": "@jupyter-widgets/controls",
          "model_name": "HTMLModel",
          "model_module_version": "1.5.0",
          "state": {
            "_dom_classes": [],
            "_model_module": "@jupyter-widgets/controls",
            "_model_module_version": "1.5.0",
            "_model_name": "HTMLModel",
            "_view_count": null,
            "_view_module": "@jupyter-widgets/controls",
            "_view_module_version": "1.5.0",
            "_view_name": "HTMLView",
            "description": "",
            "description_tooltip": null,
            "layout": "IPY_MODEL_ce4323e80db644b58120c4dd1d410dd4",
            "placeholder": "​",
            "style": "IPY_MODEL_0c54b410e7b54c6194f769d117ba8ac1",
            "value": "tokenizer_config.json: 100%"
          }
        },
        "5743e0d5565c4f40a36d28fd63c9e86c": {
          "model_module": "@jupyter-widgets/controls",
          "model_name": "FloatProgressModel",
          "model_module_version": "1.5.0",
          "state": {
            "_dom_classes": [],
            "_model_module": "@jupyter-widgets/controls",
            "_model_module_version": "1.5.0",
            "_model_name": "FloatProgressModel",
            "_view_count": null,
            "_view_module": "@jupyter-widgets/controls",
            "_view_module_version": "1.5.0",
            "_view_name": "ProgressView",
            "bar_style": "success",
            "description": "",
            "description_tooltip": null,
            "layout": "IPY_MODEL_06639974a0014c85bd4b5243b0c74289",
            "max": 48,
            "min": 0,
            "orientation": "horizontal",
            "style": "IPY_MODEL_6d6c40ed6ebc4ecea3856521c43879b7",
            "value": 48
          }
        },
        "7a9f383e38dd4b099a026930621828f1": {
          "model_module": "@jupyter-widgets/controls",
          "model_name": "HTMLModel",
          "model_module_version": "1.5.0",
          "state": {
            "_dom_classes": [],
            "_model_module": "@jupyter-widgets/controls",
            "_model_module_version": "1.5.0",
            "_model_name": "HTMLModel",
            "_view_count": null,
            "_view_module": "@jupyter-widgets/controls",
            "_view_module_version": "1.5.0",
            "_view_name": "HTMLView",
            "description": "",
            "description_tooltip": null,
            "layout": "IPY_MODEL_066a4f12f47a47d5bf17c317bc6b0cf7",
            "placeholder": "​",
            "style": "IPY_MODEL_fc7b7b5efca84348b568662a60480618",
            "value": " 48.0/48.0 [00:00&lt;00:00, 773B/s]"
          }
        },
        "823c2384086c4d2a810b85c16fad88f1": {
          "model_module": "@jupyter-widgets/base",
          "model_name": "LayoutModel",
          "model_module_version": "1.2.0",
          "state": {
            "_model_module": "@jupyter-widgets/base",
            "_model_module_version": "1.2.0",
            "_model_name": "LayoutModel",
            "_view_count": null,
            "_view_module": "@jupyter-widgets/base",
            "_view_module_version": "1.2.0",
            "_view_name": "LayoutView",
            "align_content": null,
            "align_items": null,
            "align_self": null,
            "border": null,
            "bottom": null,
            "display": null,
            "flex": null,
            "flex_flow": null,
            "grid_area": null,
            "grid_auto_columns": null,
            "grid_auto_flow": null,
            "grid_auto_rows": null,
            "grid_column": null,
            "grid_gap": null,
            "grid_row": null,
            "grid_template_areas": null,
            "grid_template_columns": null,
            "grid_template_rows": null,
            "height": null,
            "justify_content": null,
            "justify_items": null,
            "left": null,
            "margin": null,
            "max_height": null,
            "max_width": null,
            "min_height": null,
            "min_width": null,
            "object_fit": null,
            "object_position": null,
            "order": null,
            "overflow": null,
            "overflow_x": null,
            "overflow_y": null,
            "padding": null,
            "right": null,
            "top": null,
            "visibility": null,
            "width": null
          }
        },
        "ce4323e80db644b58120c4dd1d410dd4": {
          "model_module": "@jupyter-widgets/base",
          "model_name": "LayoutModel",
          "model_module_version": "1.2.0",
          "state": {
            "_model_module": "@jupyter-widgets/base",
            "_model_module_version": "1.2.0",
            "_model_name": "LayoutModel",
            "_view_count": null,
            "_view_module": "@jupyter-widgets/base",
            "_view_module_version": "1.2.0",
            "_view_name": "LayoutView",
            "align_content": null,
            "align_items": null,
            "align_self": null,
            "border": null,
            "bottom": null,
            "display": null,
            "flex": null,
            "flex_flow": null,
            "grid_area": null,
            "grid_auto_columns": null,
            "grid_auto_flow": null,
            "grid_auto_rows": null,
            "grid_column": null,
            "grid_gap": null,
            "grid_row": null,
            "grid_template_areas": null,
            "grid_template_columns": null,
            "grid_template_rows": null,
            "height": null,
            "justify_content": null,
            "justify_items": null,
            "left": null,
            "margin": null,
            "max_height": null,
            "max_width": null,
            "min_height": null,
            "min_width": null,
            "object_fit": null,
            "object_position": null,
            "order": null,
            "overflow": null,
            "overflow_x": null,
            "overflow_y": null,
            "padding": null,
            "right": null,
            "top": null,
            "visibility": null,
            "width": null
          }
        },
        "0c54b410e7b54c6194f769d117ba8ac1": {
          "model_module": "@jupyter-widgets/controls",
          "model_name": "DescriptionStyleModel",
          "model_module_version": "1.5.0",
          "state": {
            "_model_module": "@jupyter-widgets/controls",
            "_model_module_version": "1.5.0",
            "_model_name": "DescriptionStyleModel",
            "_view_count": null,
            "_view_module": "@jupyter-widgets/base",
            "_view_module_version": "1.2.0",
            "_view_name": "StyleView",
            "description_width": ""
          }
        },
        "06639974a0014c85bd4b5243b0c74289": {
          "model_module": "@jupyter-widgets/base",
          "model_name": "LayoutModel",
          "model_module_version": "1.2.0",
          "state": {
            "_model_module": "@jupyter-widgets/base",
            "_model_module_version": "1.2.0",
            "_model_name": "LayoutModel",
            "_view_count": null,
            "_view_module": "@jupyter-widgets/base",
            "_view_module_version": "1.2.0",
            "_view_name": "LayoutView",
            "align_content": null,
            "align_items": null,
            "align_self": null,
            "border": null,
            "bottom": null,
            "display": null,
            "flex": null,
            "flex_flow": null,
            "grid_area": null,
            "grid_auto_columns": null,
            "grid_auto_flow": null,
            "grid_auto_rows": null,
            "grid_column": null,
            "grid_gap": null,
            "grid_row": null,
            "grid_template_areas": null,
            "grid_template_columns": null,
            "grid_template_rows": null,
            "height": null,
            "justify_content": null,
            "justify_items": null,
            "left": null,
            "margin": null,
            "max_height": null,
            "max_width": null,
            "min_height": null,
            "min_width": null,
            "object_fit": null,
            "object_position": null,
            "order": null,
            "overflow": null,
            "overflow_x": null,
            "overflow_y": null,
            "padding": null,
            "right": null,
            "top": null,
            "visibility": null,
            "width": null
          }
        },
        "6d6c40ed6ebc4ecea3856521c43879b7": {
          "model_module": "@jupyter-widgets/controls",
          "model_name": "ProgressStyleModel",
          "model_module_version": "1.5.0",
          "state": {
            "_model_module": "@jupyter-widgets/controls",
            "_model_module_version": "1.5.0",
            "_model_name": "ProgressStyleModel",
            "_view_count": null,
            "_view_module": "@jupyter-widgets/base",
            "_view_module_version": "1.2.0",
            "_view_name": "StyleView",
            "bar_color": null,
            "description_width": ""
          }
        },
        "066a4f12f47a47d5bf17c317bc6b0cf7": {
          "model_module": "@jupyter-widgets/base",
          "model_name": "LayoutModel",
          "model_module_version": "1.2.0",
          "state": {
            "_model_module": "@jupyter-widgets/base",
            "_model_module_version": "1.2.0",
            "_model_name": "LayoutModel",
            "_view_count": null,
            "_view_module": "@jupyter-widgets/base",
            "_view_module_version": "1.2.0",
            "_view_name": "LayoutView",
            "align_content": null,
            "align_items": null,
            "align_self": null,
            "border": null,
            "bottom": null,
            "display": null,
            "flex": null,
            "flex_flow": null,
            "grid_area": null,
            "grid_auto_columns": null,
            "grid_auto_flow": null,
            "grid_auto_rows": null,
            "grid_column": null,
            "grid_gap": null,
            "grid_row": null,
            "grid_template_areas": null,
            "grid_template_columns": null,
            "grid_template_rows": null,
            "height": null,
            "justify_content": null,
            "justify_items": null,
            "left": null,
            "margin": null,
            "max_height": null,
            "max_width": null,
            "min_height": null,
            "min_width": null,
            "object_fit": null,
            "object_position": null,
            "order": null,
            "overflow": null,
            "overflow_x": null,
            "overflow_y": null,
            "padding": null,
            "right": null,
            "top": null,
            "visibility": null,
            "width": null
          }
        },
        "fc7b7b5efca84348b568662a60480618": {
          "model_module": "@jupyter-widgets/controls",
          "model_name": "DescriptionStyleModel",
          "model_module_version": "1.5.0",
          "state": {
            "_model_module": "@jupyter-widgets/controls",
            "_model_module_version": "1.5.0",
            "_model_name": "DescriptionStyleModel",
            "_view_count": null,
            "_view_module": "@jupyter-widgets/base",
            "_view_module_version": "1.2.0",
            "_view_name": "StyleView",
            "description_width": ""
          }
        },
        "5a08b68227d34fe28b8c50e691a0518f": {
          "model_module": "@jupyter-widgets/controls",
          "model_name": "HBoxModel",
          "model_module_version": "1.5.0",
          "state": {
            "_dom_classes": [],
            "_model_module": "@jupyter-widgets/controls",
            "_model_module_version": "1.5.0",
            "_model_name": "HBoxModel",
            "_view_count": null,
            "_view_module": "@jupyter-widgets/controls",
            "_view_module_version": "1.5.0",
            "_view_name": "HBoxView",
            "box_style": "",
            "children": [
              "IPY_MODEL_4bf7b2dd805444b0a00f4b6d7bb87bfc",
              "IPY_MODEL_1b340cf2d05447b08176fce0e71f04f1",
              "IPY_MODEL_df39a255a170470d91203ff94a5c09fc"
            ],
            "layout": "IPY_MODEL_8f4f982b0f194c0f9e30024eac5b02cb"
          }
        },
        "4bf7b2dd805444b0a00f4b6d7bb87bfc": {
          "model_module": "@jupyter-widgets/controls",
          "model_name": "HTMLModel",
          "model_module_version": "1.5.0",
          "state": {
            "_dom_classes": [],
            "_model_module": "@jupyter-widgets/controls",
            "_model_module_version": "1.5.0",
            "_model_name": "HTMLModel",
            "_view_count": null,
            "_view_module": "@jupyter-widgets/controls",
            "_view_module_version": "1.5.0",
            "_view_name": "HTMLView",
            "description": "",
            "description_tooltip": null,
            "layout": "IPY_MODEL_cf9e7136e5524f98a0e7e01cbfdfdb70",
            "placeholder": "​",
            "style": "IPY_MODEL_366594cfcae041f29ea0e511f756bbd7",
            "value": "vocab.txt: 100%"
          }
        },
        "1b340cf2d05447b08176fce0e71f04f1": {
          "model_module": "@jupyter-widgets/controls",
          "model_name": "FloatProgressModel",
          "model_module_version": "1.5.0",
          "state": {
            "_dom_classes": [],
            "_model_module": "@jupyter-widgets/controls",
            "_model_module_version": "1.5.0",
            "_model_name": "FloatProgressModel",
            "_view_count": null,
            "_view_module": "@jupyter-widgets/controls",
            "_view_module_version": "1.5.0",
            "_view_name": "ProgressView",
            "bar_style": "success",
            "description": "",
            "description_tooltip": null,
            "layout": "IPY_MODEL_9376a3db120e4e538f0e94c733fe8e55",
            "max": 231508,
            "min": 0,
            "orientation": "horizontal",
            "style": "IPY_MODEL_2b858874eb0e45c9be060d41362eb2ce",
            "value": 231508
          }
        },
        "df39a255a170470d91203ff94a5c09fc": {
          "model_module": "@jupyter-widgets/controls",
          "model_name": "HTMLModel",
          "model_module_version": "1.5.0",
          "state": {
            "_dom_classes": [],
            "_model_module": "@jupyter-widgets/controls",
            "_model_module_version": "1.5.0",
            "_model_name": "HTMLModel",
            "_view_count": null,
            "_view_module": "@jupyter-widgets/controls",
            "_view_module_version": "1.5.0",
            "_view_name": "HTMLView",
            "description": "",
            "description_tooltip": null,
            "layout": "IPY_MODEL_d8e96467f1b447379f4388fb27f6fda3",
            "placeholder": "​",
            "style": "IPY_MODEL_7bc668b69a16430886302bde991e3d55",
            "value": " 232k/232k [00:00&lt;00:00, 2.88MB/s]"
          }
        },
        "8f4f982b0f194c0f9e30024eac5b02cb": {
          "model_module": "@jupyter-widgets/base",
          "model_name": "LayoutModel",
          "model_module_version": "1.2.0",
          "state": {
            "_model_module": "@jupyter-widgets/base",
            "_model_module_version": "1.2.0",
            "_model_name": "LayoutModel",
            "_view_count": null,
            "_view_module": "@jupyter-widgets/base",
            "_view_module_version": "1.2.0",
            "_view_name": "LayoutView",
            "align_content": null,
            "align_items": null,
            "align_self": null,
            "border": null,
            "bottom": null,
            "display": null,
            "flex": null,
            "flex_flow": null,
            "grid_area": null,
            "grid_auto_columns": null,
            "grid_auto_flow": null,
            "grid_auto_rows": null,
            "grid_column": null,
            "grid_gap": null,
            "grid_row": null,
            "grid_template_areas": null,
            "grid_template_columns": null,
            "grid_template_rows": null,
            "height": null,
            "justify_content": null,
            "justify_items": null,
            "left": null,
            "margin": null,
            "max_height": null,
            "max_width": null,
            "min_height": null,
            "min_width": null,
            "object_fit": null,
            "object_position": null,
            "order": null,
            "overflow": null,
            "overflow_x": null,
            "overflow_y": null,
            "padding": null,
            "right": null,
            "top": null,
            "visibility": null,
            "width": null
          }
        },
        "cf9e7136e5524f98a0e7e01cbfdfdb70": {
          "model_module": "@jupyter-widgets/base",
          "model_name": "LayoutModel",
          "model_module_version": "1.2.0",
          "state": {
            "_model_module": "@jupyter-widgets/base",
            "_model_module_version": "1.2.0",
            "_model_name": "LayoutModel",
            "_view_count": null,
            "_view_module": "@jupyter-widgets/base",
            "_view_module_version": "1.2.0",
            "_view_name": "LayoutView",
            "align_content": null,
            "align_items": null,
            "align_self": null,
            "border": null,
            "bottom": null,
            "display": null,
            "flex": null,
            "flex_flow": null,
            "grid_area": null,
            "grid_auto_columns": null,
            "grid_auto_flow": null,
            "grid_auto_rows": null,
            "grid_column": null,
            "grid_gap": null,
            "grid_row": null,
            "grid_template_areas": null,
            "grid_template_columns": null,
            "grid_template_rows": null,
            "height": null,
            "justify_content": null,
            "justify_items": null,
            "left": null,
            "margin": null,
            "max_height": null,
            "max_width": null,
            "min_height": null,
            "min_width": null,
            "object_fit": null,
            "object_position": null,
            "order": null,
            "overflow": null,
            "overflow_x": null,
            "overflow_y": null,
            "padding": null,
            "right": null,
            "top": null,
            "visibility": null,
            "width": null
          }
        },
        "366594cfcae041f29ea0e511f756bbd7": {
          "model_module": "@jupyter-widgets/controls",
          "model_name": "DescriptionStyleModel",
          "model_module_version": "1.5.0",
          "state": {
            "_model_module": "@jupyter-widgets/controls",
            "_model_module_version": "1.5.0",
            "_model_name": "DescriptionStyleModel",
            "_view_count": null,
            "_view_module": "@jupyter-widgets/base",
            "_view_module_version": "1.2.0",
            "_view_name": "StyleView",
            "description_width": ""
          }
        },
        "9376a3db120e4e538f0e94c733fe8e55": {
          "model_module": "@jupyter-widgets/base",
          "model_name": "LayoutModel",
          "model_module_version": "1.2.0",
          "state": {
            "_model_module": "@jupyter-widgets/base",
            "_model_module_version": "1.2.0",
            "_model_name": "LayoutModel",
            "_view_count": null,
            "_view_module": "@jupyter-widgets/base",
            "_view_module_version": "1.2.0",
            "_view_name": "LayoutView",
            "align_content": null,
            "align_items": null,
            "align_self": null,
            "border": null,
            "bottom": null,
            "display": null,
            "flex": null,
            "flex_flow": null,
            "grid_area": null,
            "grid_auto_columns": null,
            "grid_auto_flow": null,
            "grid_auto_rows": null,
            "grid_column": null,
            "grid_gap": null,
            "grid_row": null,
            "grid_template_areas": null,
            "grid_template_columns": null,
            "grid_template_rows": null,
            "height": null,
            "justify_content": null,
            "justify_items": null,
            "left": null,
            "margin": null,
            "max_height": null,
            "max_width": null,
            "min_height": null,
            "min_width": null,
            "object_fit": null,
            "object_position": null,
            "order": null,
            "overflow": null,
            "overflow_x": null,
            "overflow_y": null,
            "padding": null,
            "right": null,
            "top": null,
            "visibility": null,
            "width": null
          }
        },
        "2b858874eb0e45c9be060d41362eb2ce": {
          "model_module": "@jupyter-widgets/controls",
          "model_name": "ProgressStyleModel",
          "model_module_version": "1.5.0",
          "state": {
            "_model_module": "@jupyter-widgets/controls",
            "_model_module_version": "1.5.0",
            "_model_name": "ProgressStyleModel",
            "_view_count": null,
            "_view_module": "@jupyter-widgets/base",
            "_view_module_version": "1.2.0",
            "_view_name": "StyleView",
            "bar_color": null,
            "description_width": ""
          }
        },
        "d8e96467f1b447379f4388fb27f6fda3": {
          "model_module": "@jupyter-widgets/base",
          "model_name": "LayoutModel",
          "model_module_version": "1.2.0",
          "state": {
            "_model_module": "@jupyter-widgets/base",
            "_model_module_version": "1.2.0",
            "_model_name": "LayoutModel",
            "_view_count": null,
            "_view_module": "@jupyter-widgets/base",
            "_view_module_version": "1.2.0",
            "_view_name": "LayoutView",
            "align_content": null,
            "align_items": null,
            "align_self": null,
            "border": null,
            "bottom": null,
            "display": null,
            "flex": null,
            "flex_flow": null,
            "grid_area": null,
            "grid_auto_columns": null,
            "grid_auto_flow": null,
            "grid_auto_rows": null,
            "grid_column": null,
            "grid_gap": null,
            "grid_row": null,
            "grid_template_areas": null,
            "grid_template_columns": null,
            "grid_template_rows": null,
            "height": null,
            "justify_content": null,
            "justify_items": null,
            "left": null,
            "margin": null,
            "max_height": null,
            "max_width": null,
            "min_height": null,
            "min_width": null,
            "object_fit": null,
            "object_position": null,
            "order": null,
            "overflow": null,
            "overflow_x": null,
            "overflow_y": null,
            "padding": null,
            "right": null,
            "top": null,
            "visibility": null,
            "width": null
          }
        },
        "7bc668b69a16430886302bde991e3d55": {
          "model_module": "@jupyter-widgets/controls",
          "model_name": "DescriptionStyleModel",
          "model_module_version": "1.5.0",
          "state": {
            "_model_module": "@jupyter-widgets/controls",
            "_model_module_version": "1.5.0",
            "_model_name": "DescriptionStyleModel",
            "_view_count": null,
            "_view_module": "@jupyter-widgets/base",
            "_view_module_version": "1.2.0",
            "_view_name": "StyleView",
            "description_width": ""
          }
        },
        "41d8f01804f4429688e0969d5c0aa5af": {
          "model_module": "@jupyter-widgets/controls",
          "model_name": "HBoxModel",
          "model_module_version": "1.5.0",
          "state": {
            "_dom_classes": [],
            "_model_module": "@jupyter-widgets/controls",
            "_model_module_version": "1.5.0",
            "_model_name": "HBoxModel",
            "_view_count": null,
            "_view_module": "@jupyter-widgets/controls",
            "_view_module_version": "1.5.0",
            "_view_name": "HBoxView",
            "box_style": "",
            "children": [
              "IPY_MODEL_20ab2abeb7264168972786ac37f30c23",
              "IPY_MODEL_85ec1040c9ca467c9b2f4ff9a2a173b0",
              "IPY_MODEL_77216ba8d7d64d4d8141e6b31364df65"
            ],
            "layout": "IPY_MODEL_ac0da954b3f64b96b0f4bdb9f011d090"
          }
        },
        "20ab2abeb7264168972786ac37f30c23": {
          "model_module": "@jupyter-widgets/controls",
          "model_name": "HTMLModel",
          "model_module_version": "1.5.0",
          "state": {
            "_dom_classes": [],
            "_model_module": "@jupyter-widgets/controls",
            "_model_module_version": "1.5.0",
            "_model_name": "HTMLModel",
            "_view_count": null,
            "_view_module": "@jupyter-widgets/controls",
            "_view_module_version": "1.5.0",
            "_view_name": "HTMLView",
            "description": "",
            "description_tooltip": null,
            "layout": "IPY_MODEL_d67f09f54faf4621823916a4bbafa905",
            "placeholder": "​",
            "style": "IPY_MODEL_d6a98e81f01d44e0a04aecd7ee931e5f",
            "value": "tokenizer.json: 100%"
          }
        },
        "85ec1040c9ca467c9b2f4ff9a2a173b0": {
          "model_module": "@jupyter-widgets/controls",
          "model_name": "FloatProgressModel",
          "model_module_version": "1.5.0",
          "state": {
            "_dom_classes": [],
            "_model_module": "@jupyter-widgets/controls",
            "_model_module_version": "1.5.0",
            "_model_name": "FloatProgressModel",
            "_view_count": null,
            "_view_module": "@jupyter-widgets/controls",
            "_view_module_version": "1.5.0",
            "_view_name": "ProgressView",
            "bar_style": "success",
            "description": "",
            "description_tooltip": null,
            "layout": "IPY_MODEL_7dd137700b2247f2ada7a6ab2c258df8",
            "max": 466062,
            "min": 0,
            "orientation": "horizontal",
            "style": "IPY_MODEL_5e8fa83e04b44d1b9aa6a88175cfd421",
            "value": 466062
          }
        },
        "77216ba8d7d64d4d8141e6b31364df65": {
          "model_module": "@jupyter-widgets/controls",
          "model_name": "HTMLModel",
          "model_module_version": "1.5.0",
          "state": {
            "_dom_classes": [],
            "_model_module": "@jupyter-widgets/controls",
            "_model_module_version": "1.5.0",
            "_model_name": "HTMLModel",
            "_view_count": null,
            "_view_module": "@jupyter-widgets/controls",
            "_view_module_version": "1.5.0",
            "_view_name": "HTMLView",
            "description": "",
            "description_tooltip": null,
            "layout": "IPY_MODEL_391f38caf9124e7592620d66ebd740d0",
            "placeholder": "​",
            "style": "IPY_MODEL_5ada26772c3e48909970d27ceffcc226",
            "value": " 466k/466k [00:00&lt;00:00, 3.51MB/s]"
          }
        },
        "ac0da954b3f64b96b0f4bdb9f011d090": {
          "model_module": "@jupyter-widgets/base",
          "model_name": "LayoutModel",
          "model_module_version": "1.2.0",
          "state": {
            "_model_module": "@jupyter-widgets/base",
            "_model_module_version": "1.2.0",
            "_model_name": "LayoutModel",
            "_view_count": null,
            "_view_module": "@jupyter-widgets/base",
            "_view_module_version": "1.2.0",
            "_view_name": "LayoutView",
            "align_content": null,
            "align_items": null,
            "align_self": null,
            "border": null,
            "bottom": null,
            "display": null,
            "flex": null,
            "flex_flow": null,
            "grid_area": null,
            "grid_auto_columns": null,
            "grid_auto_flow": null,
            "grid_auto_rows": null,
            "grid_column": null,
            "grid_gap": null,
            "grid_row": null,
            "grid_template_areas": null,
            "grid_template_columns": null,
            "grid_template_rows": null,
            "height": null,
            "justify_content": null,
            "justify_items": null,
            "left": null,
            "margin": null,
            "max_height": null,
            "max_width": null,
            "min_height": null,
            "min_width": null,
            "object_fit": null,
            "object_position": null,
            "order": null,
            "overflow": null,
            "overflow_x": null,
            "overflow_y": null,
            "padding": null,
            "right": null,
            "top": null,
            "visibility": null,
            "width": null
          }
        },
        "d67f09f54faf4621823916a4bbafa905": {
          "model_module": "@jupyter-widgets/base",
          "model_name": "LayoutModel",
          "model_module_version": "1.2.0",
          "state": {
            "_model_module": "@jupyter-widgets/base",
            "_model_module_version": "1.2.0",
            "_model_name": "LayoutModel",
            "_view_count": null,
            "_view_module": "@jupyter-widgets/base",
            "_view_module_version": "1.2.0",
            "_view_name": "LayoutView",
            "align_content": null,
            "align_items": null,
            "align_self": null,
            "border": null,
            "bottom": null,
            "display": null,
            "flex": null,
            "flex_flow": null,
            "grid_area": null,
            "grid_auto_columns": null,
            "grid_auto_flow": null,
            "grid_auto_rows": null,
            "grid_column": null,
            "grid_gap": null,
            "grid_row": null,
            "grid_template_areas": null,
            "grid_template_columns": null,
            "grid_template_rows": null,
            "height": null,
            "justify_content": null,
            "justify_items": null,
            "left": null,
            "margin": null,
            "max_height": null,
            "max_width": null,
            "min_height": null,
            "min_width": null,
            "object_fit": null,
            "object_position": null,
            "order": null,
            "overflow": null,
            "overflow_x": null,
            "overflow_y": null,
            "padding": null,
            "right": null,
            "top": null,
            "visibility": null,
            "width": null
          }
        },
        "d6a98e81f01d44e0a04aecd7ee931e5f": {
          "model_module": "@jupyter-widgets/controls",
          "model_name": "DescriptionStyleModel",
          "model_module_version": "1.5.0",
          "state": {
            "_model_module": "@jupyter-widgets/controls",
            "_model_module_version": "1.5.0",
            "_model_name": "DescriptionStyleModel",
            "_view_count": null,
            "_view_module": "@jupyter-widgets/base",
            "_view_module_version": "1.2.0",
            "_view_name": "StyleView",
            "description_width": ""
          }
        },
        "7dd137700b2247f2ada7a6ab2c258df8": {
          "model_module": "@jupyter-widgets/base",
          "model_name": "LayoutModel",
          "model_module_version": "1.2.0",
          "state": {
            "_model_module": "@jupyter-widgets/base",
            "_model_module_version": "1.2.0",
            "_model_name": "LayoutModel",
            "_view_count": null,
            "_view_module": "@jupyter-widgets/base",
            "_view_module_version": "1.2.0",
            "_view_name": "LayoutView",
            "align_content": null,
            "align_items": null,
            "align_self": null,
            "border": null,
            "bottom": null,
            "display": null,
            "flex": null,
            "flex_flow": null,
            "grid_area": null,
            "grid_auto_columns": null,
            "grid_auto_flow": null,
            "grid_auto_rows": null,
            "grid_column": null,
            "grid_gap": null,
            "grid_row": null,
            "grid_template_areas": null,
            "grid_template_columns": null,
            "grid_template_rows": null,
            "height": null,
            "justify_content": null,
            "justify_items": null,
            "left": null,
            "margin": null,
            "max_height": null,
            "max_width": null,
            "min_height": null,
            "min_width": null,
            "object_fit": null,
            "object_position": null,
            "order": null,
            "overflow": null,
            "overflow_x": null,
            "overflow_y": null,
            "padding": null,
            "right": null,
            "top": null,
            "visibility": null,
            "width": null
          }
        },
        "5e8fa83e04b44d1b9aa6a88175cfd421": {
          "model_module": "@jupyter-widgets/controls",
          "model_name": "ProgressStyleModel",
          "model_module_version": "1.5.0",
          "state": {
            "_model_module": "@jupyter-widgets/controls",
            "_model_module_version": "1.5.0",
            "_model_name": "ProgressStyleModel",
            "_view_count": null,
            "_view_module": "@jupyter-widgets/base",
            "_view_module_version": "1.2.0",
            "_view_name": "StyleView",
            "bar_color": null,
            "description_width": ""
          }
        },
        "391f38caf9124e7592620d66ebd740d0": {
          "model_module": "@jupyter-widgets/base",
          "model_name": "LayoutModel",
          "model_module_version": "1.2.0",
          "state": {
            "_model_module": "@jupyter-widgets/base",
            "_model_module_version": "1.2.0",
            "_model_name": "LayoutModel",
            "_view_count": null,
            "_view_module": "@jupyter-widgets/base",
            "_view_module_version": "1.2.0",
            "_view_name": "LayoutView",
            "align_content": null,
            "align_items": null,
            "align_self": null,
            "border": null,
            "bottom": null,
            "display": null,
            "flex": null,
            "flex_flow": null,
            "grid_area": null,
            "grid_auto_columns": null,
            "grid_auto_flow": null,
            "grid_auto_rows": null,
            "grid_column": null,
            "grid_gap": null,
            "grid_row": null,
            "grid_template_areas": null,
            "grid_template_columns": null,
            "grid_template_rows": null,
            "height": null,
            "justify_content": null,
            "justify_items": null,
            "left": null,
            "margin": null,
            "max_height": null,
            "max_width": null,
            "min_height": null,
            "min_width": null,
            "object_fit": null,
            "object_position": null,
            "order": null,
            "overflow": null,
            "overflow_x": null,
            "overflow_y": null,
            "padding": null,
            "right": null,
            "top": null,
            "visibility": null,
            "width": null
          }
        },
        "5ada26772c3e48909970d27ceffcc226": {
          "model_module": "@jupyter-widgets/controls",
          "model_name": "DescriptionStyleModel",
          "model_module_version": "1.5.0",
          "state": {
            "_model_module": "@jupyter-widgets/controls",
            "_model_module_version": "1.5.0",
            "_model_name": "DescriptionStyleModel",
            "_view_count": null,
            "_view_module": "@jupyter-widgets/base",
            "_view_module_version": "1.2.0",
            "_view_name": "StyleView",
            "description_width": ""
          }
        },
        "45c6a3644c154ed3a5cfe92d37e5924e": {
          "model_module": "@jupyter-widgets/controls",
          "model_name": "HBoxModel",
          "model_module_version": "1.5.0",
          "state": {
            "_dom_classes": [],
            "_model_module": "@jupyter-widgets/controls",
            "_model_module_version": "1.5.0",
            "_model_name": "HBoxModel",
            "_view_count": null,
            "_view_module": "@jupyter-widgets/controls",
            "_view_module_version": "1.5.0",
            "_view_name": "HBoxView",
            "box_style": "",
            "children": [
              "IPY_MODEL_5477684c5d224ae88917906d67177729",
              "IPY_MODEL_e2e21324eaa64bdd8492793fc7c6cadb",
              "IPY_MODEL_84ccda78554e48a7be1c682130cb97b7"
            ],
            "layout": "IPY_MODEL_22658a77506445aab4c9da2f88d940e9"
          }
        },
        "5477684c5d224ae88917906d67177729": {
          "model_module": "@jupyter-widgets/controls",
          "model_name": "HTMLModel",
          "model_module_version": "1.5.0",
          "state": {
            "_dom_classes": [],
            "_model_module": "@jupyter-widgets/controls",
            "_model_module_version": "1.5.0",
            "_model_name": "HTMLModel",
            "_view_count": null,
            "_view_module": "@jupyter-widgets/controls",
            "_view_module_version": "1.5.0",
            "_view_name": "HTMLView",
            "description": "",
            "description_tooltip": null,
            "layout": "IPY_MODEL_64a163fcf50e484ab184fdf1b2c1e7ab",
            "placeholder": "​",
            "style": "IPY_MODEL_6f48e84f81574f81ae6d021d03a6d0af",
            "value": "config.json: 100%"
          }
        },
        "e2e21324eaa64bdd8492793fc7c6cadb": {
          "model_module": "@jupyter-widgets/controls",
          "model_name": "FloatProgressModel",
          "model_module_version": "1.5.0",
          "state": {
            "_dom_classes": [],
            "_model_module": "@jupyter-widgets/controls",
            "_model_module_version": "1.5.0",
            "_model_name": "FloatProgressModel",
            "_view_count": null,
            "_view_module": "@jupyter-widgets/controls",
            "_view_module_version": "1.5.0",
            "_view_name": "ProgressView",
            "bar_style": "success",
            "description": "",
            "description_tooltip": null,
            "layout": "IPY_MODEL_64db067930e54a47ae83737f06d7e171",
            "max": 570,
            "min": 0,
            "orientation": "horizontal",
            "style": "IPY_MODEL_47f5ee6ef3b9421ca9ae616db909daa4",
            "value": 570
          }
        },
        "84ccda78554e48a7be1c682130cb97b7": {
          "model_module": "@jupyter-widgets/controls",
          "model_name": "HTMLModel",
          "model_module_version": "1.5.0",
          "state": {
            "_dom_classes": [],
            "_model_module": "@jupyter-widgets/controls",
            "_model_module_version": "1.5.0",
            "_model_name": "HTMLModel",
            "_view_count": null,
            "_view_module": "@jupyter-widgets/controls",
            "_view_module_version": "1.5.0",
            "_view_name": "HTMLView",
            "description": "",
            "description_tooltip": null,
            "layout": "IPY_MODEL_ab2d7fbc435b49c9a2c150d3342246e1",
            "placeholder": "​",
            "style": "IPY_MODEL_932398f378604aaca64766c89ec7274d",
            "value": " 570/570 [00:00&lt;00:00, 14.3kB/s]"
          }
        },
        "22658a77506445aab4c9da2f88d940e9": {
          "model_module": "@jupyter-widgets/base",
          "model_name": "LayoutModel",
          "model_module_version": "1.2.0",
          "state": {
            "_model_module": "@jupyter-widgets/base",
            "_model_module_version": "1.2.0",
            "_model_name": "LayoutModel",
            "_view_count": null,
            "_view_module": "@jupyter-widgets/base",
            "_view_module_version": "1.2.0",
            "_view_name": "LayoutView",
            "align_content": null,
            "align_items": null,
            "align_self": null,
            "border": null,
            "bottom": null,
            "display": null,
            "flex": null,
            "flex_flow": null,
            "grid_area": null,
            "grid_auto_columns": null,
            "grid_auto_flow": null,
            "grid_auto_rows": null,
            "grid_column": null,
            "grid_gap": null,
            "grid_row": null,
            "grid_template_areas": null,
            "grid_template_columns": null,
            "grid_template_rows": null,
            "height": null,
            "justify_content": null,
            "justify_items": null,
            "left": null,
            "margin": null,
            "max_height": null,
            "max_width": null,
            "min_height": null,
            "min_width": null,
            "object_fit": null,
            "object_position": null,
            "order": null,
            "overflow": null,
            "overflow_x": null,
            "overflow_y": null,
            "padding": null,
            "right": null,
            "top": null,
            "visibility": null,
            "width": null
          }
        },
        "64a163fcf50e484ab184fdf1b2c1e7ab": {
          "model_module": "@jupyter-widgets/base",
          "model_name": "LayoutModel",
          "model_module_version": "1.2.0",
          "state": {
            "_model_module": "@jupyter-widgets/base",
            "_model_module_version": "1.2.0",
            "_model_name": "LayoutModel",
            "_view_count": null,
            "_view_module": "@jupyter-widgets/base",
            "_view_module_version": "1.2.0",
            "_view_name": "LayoutView",
            "align_content": null,
            "align_items": null,
            "align_self": null,
            "border": null,
            "bottom": null,
            "display": null,
            "flex": null,
            "flex_flow": null,
            "grid_area": null,
            "grid_auto_columns": null,
            "grid_auto_flow": null,
            "grid_auto_rows": null,
            "grid_column": null,
            "grid_gap": null,
            "grid_row": null,
            "grid_template_areas": null,
            "grid_template_columns": null,
            "grid_template_rows": null,
            "height": null,
            "justify_content": null,
            "justify_items": null,
            "left": null,
            "margin": null,
            "max_height": null,
            "max_width": null,
            "min_height": null,
            "min_width": null,
            "object_fit": null,
            "object_position": null,
            "order": null,
            "overflow": null,
            "overflow_x": null,
            "overflow_y": null,
            "padding": null,
            "right": null,
            "top": null,
            "visibility": null,
            "width": null
          }
        },
        "6f48e84f81574f81ae6d021d03a6d0af": {
          "model_module": "@jupyter-widgets/controls",
          "model_name": "DescriptionStyleModel",
          "model_module_version": "1.5.0",
          "state": {
            "_model_module": "@jupyter-widgets/controls",
            "_model_module_version": "1.5.0",
            "_model_name": "DescriptionStyleModel",
            "_view_count": null,
            "_view_module": "@jupyter-widgets/base",
            "_view_module_version": "1.2.0",
            "_view_name": "StyleView",
            "description_width": ""
          }
        },
        "64db067930e54a47ae83737f06d7e171": {
          "model_module": "@jupyter-widgets/base",
          "model_name": "LayoutModel",
          "model_module_version": "1.2.0",
          "state": {
            "_model_module": "@jupyter-widgets/base",
            "_model_module_version": "1.2.0",
            "_model_name": "LayoutModel",
            "_view_count": null,
            "_view_module": "@jupyter-widgets/base",
            "_view_module_version": "1.2.0",
            "_view_name": "LayoutView",
            "align_content": null,
            "align_items": null,
            "align_self": null,
            "border": null,
            "bottom": null,
            "display": null,
            "flex": null,
            "flex_flow": null,
            "grid_area": null,
            "grid_auto_columns": null,
            "grid_auto_flow": null,
            "grid_auto_rows": null,
            "grid_column": null,
            "grid_gap": null,
            "grid_row": null,
            "grid_template_areas": null,
            "grid_template_columns": null,
            "grid_template_rows": null,
            "height": null,
            "justify_content": null,
            "justify_items": null,
            "left": null,
            "margin": null,
            "max_height": null,
            "max_width": null,
            "min_height": null,
            "min_width": null,
            "object_fit": null,
            "object_position": null,
            "order": null,
            "overflow": null,
            "overflow_x": null,
            "overflow_y": null,
            "padding": null,
            "right": null,
            "top": null,
            "visibility": null,
            "width": null
          }
        },
        "47f5ee6ef3b9421ca9ae616db909daa4": {
          "model_module": "@jupyter-widgets/controls",
          "model_name": "ProgressStyleModel",
          "model_module_version": "1.5.0",
          "state": {
            "_model_module": "@jupyter-widgets/controls",
            "_model_module_version": "1.5.0",
            "_model_name": "ProgressStyleModel",
            "_view_count": null,
            "_view_module": "@jupyter-widgets/base",
            "_view_module_version": "1.2.0",
            "_view_name": "StyleView",
            "bar_color": null,
            "description_width": ""
          }
        },
        "ab2d7fbc435b49c9a2c150d3342246e1": {
          "model_module": "@jupyter-widgets/base",
          "model_name": "LayoutModel",
          "model_module_version": "1.2.0",
          "state": {
            "_model_module": "@jupyter-widgets/base",
            "_model_module_version": "1.2.0",
            "_model_name": "LayoutModel",
            "_view_count": null,
            "_view_module": "@jupyter-widgets/base",
            "_view_module_version": "1.2.0",
            "_view_name": "LayoutView",
            "align_content": null,
            "align_items": null,
            "align_self": null,
            "border": null,
            "bottom": null,
            "display": null,
            "flex": null,
            "flex_flow": null,
            "grid_area": null,
            "grid_auto_columns": null,
            "grid_auto_flow": null,
            "grid_auto_rows": null,
            "grid_column": null,
            "grid_gap": null,
            "grid_row": null,
            "grid_template_areas": null,
            "grid_template_columns": null,
            "grid_template_rows": null,
            "height": null,
            "justify_content": null,
            "justify_items": null,
            "left": null,
            "margin": null,
            "max_height": null,
            "max_width": null,
            "min_height": null,
            "min_width": null,
            "object_fit": null,
            "object_position": null,
            "order": null,
            "overflow": null,
            "overflow_x": null,
            "overflow_y": null,
            "padding": null,
            "right": null,
            "top": null,
            "visibility": null,
            "width": null
          }
        },
        "932398f378604aaca64766c89ec7274d": {
          "model_module": "@jupyter-widgets/controls",
          "model_name": "DescriptionStyleModel",
          "model_module_version": "1.5.0",
          "state": {
            "_model_module": "@jupyter-widgets/controls",
            "_model_module_version": "1.5.0",
            "_model_name": "DescriptionStyleModel",
            "_view_count": null,
            "_view_module": "@jupyter-widgets/base",
            "_view_module_version": "1.2.0",
            "_view_name": "StyleView",
            "description_width": ""
          }
        },
        "93bc55ed40f5453f9e3ceda340af2f8b": {
          "model_module": "@jupyter-widgets/controls",
          "model_name": "HBoxModel",
          "model_module_version": "1.5.0",
          "state": {
            "_dom_classes": [],
            "_model_module": "@jupyter-widgets/controls",
            "_model_module_version": "1.5.0",
            "_model_name": "HBoxModel",
            "_view_count": null,
            "_view_module": "@jupyter-widgets/controls",
            "_view_module_version": "1.5.0",
            "_view_name": "HBoxView",
            "box_style": "",
            "children": [
              "IPY_MODEL_168d98532d4049d19ac69d64e1a332fd",
              "IPY_MODEL_21822a206d074b03a7b5ee53a59f5d18",
              "IPY_MODEL_20f28bce337d4990a0e1e6b84dceee2f"
            ],
            "layout": "IPY_MODEL_381d51e3290c44b8a2c8ecfc3724343a"
          }
        },
        "168d98532d4049d19ac69d64e1a332fd": {
          "model_module": "@jupyter-widgets/controls",
          "model_name": "HTMLModel",
          "model_module_version": "1.5.0",
          "state": {
            "_dom_classes": [],
            "_model_module": "@jupyter-widgets/controls",
            "_model_module_version": "1.5.0",
            "_model_name": "HTMLModel",
            "_view_count": null,
            "_view_module": "@jupyter-widgets/controls",
            "_view_module_version": "1.5.0",
            "_view_name": "HTMLView",
            "description": "",
            "description_tooltip": null,
            "layout": "IPY_MODEL_ec7a1ef7fdf5419a841e83d896fb013b",
            "placeholder": "​",
            "style": "IPY_MODEL_92a44353df4c447d89c955e1724eda9c",
            "value": "model.safetensors: 100%"
          }
        },
        "21822a206d074b03a7b5ee53a59f5d18": {
          "model_module": "@jupyter-widgets/controls",
          "model_name": "FloatProgressModel",
          "model_module_version": "1.5.0",
          "state": {
            "_dom_classes": [],
            "_model_module": "@jupyter-widgets/controls",
            "_model_module_version": "1.5.0",
            "_model_name": "FloatProgressModel",
            "_view_count": null,
            "_view_module": "@jupyter-widgets/controls",
            "_view_module_version": "1.5.0",
            "_view_name": "ProgressView",
            "bar_style": "success",
            "description": "",
            "description_tooltip": null,
            "layout": "IPY_MODEL_7f435f580c9d438db8cb0f272e8e7db4",
            "max": 440449768,
            "min": 0,
            "orientation": "horizontal",
            "style": "IPY_MODEL_af0bf45414e647d996933647ed608cc8",
            "value": 440449768
          }
        },
        "20f28bce337d4990a0e1e6b84dceee2f": {
          "model_module": "@jupyter-widgets/controls",
          "model_name": "HTMLModel",
          "model_module_version": "1.5.0",
          "state": {
            "_dom_classes": [],
            "_model_module": "@jupyter-widgets/controls",
            "_model_module_version": "1.5.0",
            "_model_name": "HTMLModel",
            "_view_count": null,
            "_view_module": "@jupyter-widgets/controls",
            "_view_module_version": "1.5.0",
            "_view_name": "HTMLView",
            "description": "",
            "description_tooltip": null,
            "layout": "IPY_MODEL_c30cae511fe0403d830cb2ab3ee587e6",
            "placeholder": "​",
            "style": "IPY_MODEL_f7c65ddbe2864b7cb8403dd0dfe2d21b",
            "value": " 440M/440M [00:02&lt;00:00, 228MB/s]"
          }
        },
        "381d51e3290c44b8a2c8ecfc3724343a": {
          "model_module": "@jupyter-widgets/base",
          "model_name": "LayoutModel",
          "model_module_version": "1.2.0",
          "state": {
            "_model_module": "@jupyter-widgets/base",
            "_model_module_version": "1.2.0",
            "_model_name": "LayoutModel",
            "_view_count": null,
            "_view_module": "@jupyter-widgets/base",
            "_view_module_version": "1.2.0",
            "_view_name": "LayoutView",
            "align_content": null,
            "align_items": null,
            "align_self": null,
            "border": null,
            "bottom": null,
            "display": null,
            "flex": null,
            "flex_flow": null,
            "grid_area": null,
            "grid_auto_columns": null,
            "grid_auto_flow": null,
            "grid_auto_rows": null,
            "grid_column": null,
            "grid_gap": null,
            "grid_row": null,
            "grid_template_areas": null,
            "grid_template_columns": null,
            "grid_template_rows": null,
            "height": null,
            "justify_content": null,
            "justify_items": null,
            "left": null,
            "margin": null,
            "max_height": null,
            "max_width": null,
            "min_height": null,
            "min_width": null,
            "object_fit": null,
            "object_position": null,
            "order": null,
            "overflow": null,
            "overflow_x": null,
            "overflow_y": null,
            "padding": null,
            "right": null,
            "top": null,
            "visibility": null,
            "width": null
          }
        },
        "ec7a1ef7fdf5419a841e83d896fb013b": {
          "model_module": "@jupyter-widgets/base",
          "model_name": "LayoutModel",
          "model_module_version": "1.2.0",
          "state": {
            "_model_module": "@jupyter-widgets/base",
            "_model_module_version": "1.2.0",
            "_model_name": "LayoutModel",
            "_view_count": null,
            "_view_module": "@jupyter-widgets/base",
            "_view_module_version": "1.2.0",
            "_view_name": "LayoutView",
            "align_content": null,
            "align_items": null,
            "align_self": null,
            "border": null,
            "bottom": null,
            "display": null,
            "flex": null,
            "flex_flow": null,
            "grid_area": null,
            "grid_auto_columns": null,
            "grid_auto_flow": null,
            "grid_auto_rows": null,
            "grid_column": null,
            "grid_gap": null,
            "grid_row": null,
            "grid_template_areas": null,
            "grid_template_columns": null,
            "grid_template_rows": null,
            "height": null,
            "justify_content": null,
            "justify_items": null,
            "left": null,
            "margin": null,
            "max_height": null,
            "max_width": null,
            "min_height": null,
            "min_width": null,
            "object_fit": null,
            "object_position": null,
            "order": null,
            "overflow": null,
            "overflow_x": null,
            "overflow_y": null,
            "padding": null,
            "right": null,
            "top": null,
            "visibility": null,
            "width": null
          }
        },
        "92a44353df4c447d89c955e1724eda9c": {
          "model_module": "@jupyter-widgets/controls",
          "model_name": "DescriptionStyleModel",
          "model_module_version": "1.5.0",
          "state": {
            "_model_module": "@jupyter-widgets/controls",
            "_model_module_version": "1.5.0",
            "_model_name": "DescriptionStyleModel",
            "_view_count": null,
            "_view_module": "@jupyter-widgets/base",
            "_view_module_version": "1.2.0",
            "_view_name": "StyleView",
            "description_width": ""
          }
        },
        "7f435f580c9d438db8cb0f272e8e7db4": {
          "model_module": "@jupyter-widgets/base",
          "model_name": "LayoutModel",
          "model_module_version": "1.2.0",
          "state": {
            "_model_module": "@jupyter-widgets/base",
            "_model_module_version": "1.2.0",
            "_model_name": "LayoutModel",
            "_view_count": null,
            "_view_module": "@jupyter-widgets/base",
            "_view_module_version": "1.2.0",
            "_view_name": "LayoutView",
            "align_content": null,
            "align_items": null,
            "align_self": null,
            "border": null,
            "bottom": null,
            "display": null,
            "flex": null,
            "flex_flow": null,
            "grid_area": null,
            "grid_auto_columns": null,
            "grid_auto_flow": null,
            "grid_auto_rows": null,
            "grid_column": null,
            "grid_gap": null,
            "grid_row": null,
            "grid_template_areas": null,
            "grid_template_columns": null,
            "grid_template_rows": null,
            "height": null,
            "justify_content": null,
            "justify_items": null,
            "left": null,
            "margin": null,
            "max_height": null,
            "max_width": null,
            "min_height": null,
            "min_width": null,
            "object_fit": null,
            "object_position": null,
            "order": null,
            "overflow": null,
            "overflow_x": null,
            "overflow_y": null,
            "padding": null,
            "right": null,
            "top": null,
            "visibility": null,
            "width": null
          }
        },
        "af0bf45414e647d996933647ed608cc8": {
          "model_module": "@jupyter-widgets/controls",
          "model_name": "ProgressStyleModel",
          "model_module_version": "1.5.0",
          "state": {
            "_model_module": "@jupyter-widgets/controls",
            "_model_module_version": "1.5.0",
            "_model_name": "ProgressStyleModel",
            "_view_count": null,
            "_view_module": "@jupyter-widgets/base",
            "_view_module_version": "1.2.0",
            "_view_name": "StyleView",
            "bar_color": null,
            "description_width": ""
          }
        },
        "c30cae511fe0403d830cb2ab3ee587e6": {
          "model_module": "@jupyter-widgets/base",
          "model_name": "LayoutModel",
          "model_module_version": "1.2.0",
          "state": {
            "_model_module": "@jupyter-widgets/base",
            "_model_module_version": "1.2.0",
            "_model_name": "LayoutModel",
            "_view_count": null,
            "_view_module": "@jupyter-widgets/base",
            "_view_module_version": "1.2.0",
            "_view_name": "LayoutView",
            "align_content": null,
            "align_items": null,
            "align_self": null,
            "border": null,
            "bottom": null,
            "display": null,
            "flex": null,
            "flex_flow": null,
            "grid_area": null,
            "grid_auto_columns": null,
            "grid_auto_flow": null,
            "grid_auto_rows": null,
            "grid_column": null,
            "grid_gap": null,
            "grid_row": null,
            "grid_template_areas": null,
            "grid_template_columns": null,
            "grid_template_rows": null,
            "height": null,
            "justify_content": null,
            "justify_items": null,
            "left": null,
            "margin": null,
            "max_height": null,
            "max_width": null,
            "min_height": null,
            "min_width": null,
            "object_fit": null,
            "object_position": null,
            "order": null,
            "overflow": null,
            "overflow_x": null,
            "overflow_y": null,
            "padding": null,
            "right": null,
            "top": null,
            "visibility": null,
            "width": null
          }
        },
        "f7c65ddbe2864b7cb8403dd0dfe2d21b": {
          "model_module": "@jupyter-widgets/controls",
          "model_name": "DescriptionStyleModel",
          "model_module_version": "1.5.0",
          "state": {
            "_model_module": "@jupyter-widgets/controls",
            "_model_module_version": "1.5.0",
            "_model_name": "DescriptionStyleModel",
            "_view_count": null,
            "_view_module": "@jupyter-widgets/base",
            "_view_module_version": "1.2.0",
            "_view_name": "StyleView",
            "description_width": ""
          }
        }
      }
    },
    "accelerator": "GPU"
  },
  "nbformat": 4,
  "nbformat_minor": 5
}